{
  "nbformat": 4,
  "nbformat_minor": 0,
  "metadata": {
    "kernelspec": {
      "display_name": "Python 3",
      "language": "python",
      "name": "python3"
    },
    "language_info": {
      "codemirror_mode": {
        "name": "ipython",
        "version": 3
      },
      "file_extension": ".py",
      "mimetype": "text/x-python",
      "name": "python",
      "nbconvert_exporter": "python",
      "pygments_lexer": "ipython3",
      "version": "3.6.6"
    },
    "colab": {
      "name": "Global Terrorism Analysis - Capstone Project.ipynb",
      "provenance": [],
      "collapsed_sections": [],
      "include_colab_link": true
    }
  },
  "cells": [
    {
      "cell_type": "markdown",
      "metadata": {
        "id": "view-in-github",
        "colab_type": "text"
      },
      "source": [
        "<a href=\"https://colab.research.google.com/github/Sandeep2111/Global_Terrorism_Analysis/blob/main/Global_Terrorism_Analysis_Capstone_Project.ipynb\" target=\"_parent\"><img src=\"https://colab.research.google.com/assets/colab-badge.svg\" alt=\"Open In Colab\"/></a>"
      ]
    },
    {
      "cell_type": "markdown",
      "metadata": {
        "id": "Y06xIdG26kRF"
      },
      "source": [
        "## <b> The Global Terrorism Database (GTD) is an open-source database including information on terrorist attacks around the world from 1970 through 2017. The GTD includes systematic data on domestic as well as international terrorist incidents that have occurred during this time period and now includes more than 180,000 attacks. The database is maintained by researchers at the National Consortium for the Study of Terrorism and Responses to Terrorism (START), headquartered at the University of Maryland.</b>\n",
        "\n",
        "# <b> Explore and analyze the data to discover key findings pertaining to terrorist activities. </b>"
      ]
    },
    {
      "cell_type": "code",
      "metadata": {
        "colab": {
          "base_uri": "https://localhost:8080/"
        },
        "id": "o_8Elrtjk1zP",
        "outputId": "c8678b82-cdef-4b4d-e814-f0355cd3f55c"
      },
      "source": [
        "from google.colab import drive\n",
        "drive.mount('/content/drive')"
      ],
      "execution_count": null,
      "outputs": [
        {
          "output_type": "stream",
          "text": [
            "Mounted at /content/drive\n"
          ],
          "name": "stdout"
        }
      ]
    },
    {
      "cell_type": "code",
      "metadata": {
        "id": "dByMsuzT8Tnw"
      },
      "source": [
        "#import the necessary libraries\n",
        "import pandas as pd\n",
        "import numpy as np\n",
        "import seaborn as sns\n",
        "import matplotlib.pyplot as plt\n",
        "%matplotlib inline"
      ],
      "execution_count": null,
      "outputs": []
    },
    {
      "cell_type": "code",
      "metadata": {
        "colab": {
          "base_uri": "https://localhost:8080/"
        },
        "id": "ECSxBnvZlIrw",
        "outputId": "4acf04a4-1a6f-4516-e85a-f0dcf9366165"
      },
      "source": [
        "#Reading the dataset using \"ISO-8859-1\" as encoding \n",
        "dataset = pd.read_csv('/content/drive/MyDrive/Colab Notebooks/AlmaBetter/Capstone/EDA/Copy of Global Terrorism Data.csv',encoding='ISO-8859-1')"
      ],
      "execution_count": null,
      "outputs": [
        {
          "output_type": "stream",
          "text": [
            "/usr/local/lib/python3.7/dist-packages/IPython/core/interactiveshell.py:2718: DtypeWarning: Columns (4,6,31,33,61,62,63,76,79,90,92,94,96,114,115,121) have mixed types.Specify dtype option on import or set low_memory=False.\n",
            "  interactivity=interactivity, compiler=compiler, result=result)\n"
          ],
          "name": "stderr"
        }
      ]
    },
    {
      "cell_type": "code",
      "metadata": {
        "colab": {
          "base_uri": "https://localhost:8080/",
          "height": 372
        },
        "id": "2K_8LYDMlM2e",
        "outputId": "2549dbe9-60f2-4fff-e4f3-ce1aca950256"
      },
      "source": [
        "dataset.head()"
      ],
      "execution_count": null,
      "outputs": [
        {
          "output_type": "execute_result",
          "data": {
            "text/html": [
              "<div>\n",
              "<style scoped>\n",
              "    .dataframe tbody tr th:only-of-type {\n",
              "        vertical-align: middle;\n",
              "    }\n",
              "\n",
              "    .dataframe tbody tr th {\n",
              "        vertical-align: top;\n",
              "    }\n",
              "\n",
              "    .dataframe thead th {\n",
              "        text-align: right;\n",
              "    }\n",
              "</style>\n",
              "<table border=\"1\" class=\"dataframe\">\n",
              "  <thead>\n",
              "    <tr style=\"text-align: right;\">\n",
              "      <th></th>\n",
              "      <th>eventid</th>\n",
              "      <th>iyear</th>\n",
              "      <th>imonth</th>\n",
              "      <th>iday</th>\n",
              "      <th>approxdate</th>\n",
              "      <th>extended</th>\n",
              "      <th>resolution</th>\n",
              "      <th>country</th>\n",
              "      <th>country_txt</th>\n",
              "      <th>region</th>\n",
              "      <th>region_txt</th>\n",
              "      <th>provstate</th>\n",
              "      <th>city</th>\n",
              "      <th>latitude</th>\n",
              "      <th>longitude</th>\n",
              "      <th>specificity</th>\n",
              "      <th>vicinity</th>\n",
              "      <th>location</th>\n",
              "      <th>summary</th>\n",
              "      <th>crit1</th>\n",
              "      <th>crit2</th>\n",
              "      <th>crit3</th>\n",
              "      <th>doubtterr</th>\n",
              "      <th>alternative</th>\n",
              "      <th>alternative_txt</th>\n",
              "      <th>multiple</th>\n",
              "      <th>success</th>\n",
              "      <th>suicide</th>\n",
              "      <th>attacktype1</th>\n",
              "      <th>attacktype1_txt</th>\n",
              "      <th>attacktype2</th>\n",
              "      <th>attacktype2_txt</th>\n",
              "      <th>attacktype3</th>\n",
              "      <th>attacktype3_txt</th>\n",
              "      <th>targtype1</th>\n",
              "      <th>targtype1_txt</th>\n",
              "      <th>targsubtype1</th>\n",
              "      <th>targsubtype1_txt</th>\n",
              "      <th>corp1</th>\n",
              "      <th>target1</th>\n",
              "      <th>...</th>\n",
              "      <th>weapsubtype4</th>\n",
              "      <th>weapsubtype4_txt</th>\n",
              "      <th>weapdetail</th>\n",
              "      <th>nkill</th>\n",
              "      <th>nkillus</th>\n",
              "      <th>nkillter</th>\n",
              "      <th>nwound</th>\n",
              "      <th>nwoundus</th>\n",
              "      <th>nwoundte</th>\n",
              "      <th>property</th>\n",
              "      <th>propextent</th>\n",
              "      <th>propextent_txt</th>\n",
              "      <th>propvalue</th>\n",
              "      <th>propcomment</th>\n",
              "      <th>ishostkid</th>\n",
              "      <th>nhostkid</th>\n",
              "      <th>nhostkidus</th>\n",
              "      <th>nhours</th>\n",
              "      <th>ndays</th>\n",
              "      <th>divert</th>\n",
              "      <th>kidhijcountry</th>\n",
              "      <th>ransom</th>\n",
              "      <th>ransomamt</th>\n",
              "      <th>ransomamtus</th>\n",
              "      <th>ransompaid</th>\n",
              "      <th>ransompaidus</th>\n",
              "      <th>ransomnote</th>\n",
              "      <th>hostkidoutcome</th>\n",
              "      <th>hostkidoutcome_txt</th>\n",
              "      <th>nreleased</th>\n",
              "      <th>addnotes</th>\n",
              "      <th>scite1</th>\n",
              "      <th>scite2</th>\n",
              "      <th>scite3</th>\n",
              "      <th>dbsource</th>\n",
              "      <th>INT_LOG</th>\n",
              "      <th>INT_IDEO</th>\n",
              "      <th>INT_MISC</th>\n",
              "      <th>INT_ANY</th>\n",
              "      <th>related</th>\n",
              "    </tr>\n",
              "  </thead>\n",
              "  <tbody>\n",
              "    <tr>\n",
              "      <th>0</th>\n",
              "      <td>197000000001</td>\n",
              "      <td>1970</td>\n",
              "      <td>7</td>\n",
              "      <td>2</td>\n",
              "      <td>NaN</td>\n",
              "      <td>0</td>\n",
              "      <td>NaN</td>\n",
              "      <td>58</td>\n",
              "      <td>Dominican Republic</td>\n",
              "      <td>2</td>\n",
              "      <td>Central America &amp; Caribbean</td>\n",
              "      <td>NaN</td>\n",
              "      <td>Santo Domingo</td>\n",
              "      <td>18.456792</td>\n",
              "      <td>-69.951164</td>\n",
              "      <td>1.0</td>\n",
              "      <td>0</td>\n",
              "      <td>NaN</td>\n",
              "      <td>NaN</td>\n",
              "      <td>1</td>\n",
              "      <td>1</td>\n",
              "      <td>1</td>\n",
              "      <td>0.0</td>\n",
              "      <td>NaN</td>\n",
              "      <td>NaN</td>\n",
              "      <td>0.0</td>\n",
              "      <td>1</td>\n",
              "      <td>0</td>\n",
              "      <td>1</td>\n",
              "      <td>Assassination</td>\n",
              "      <td>NaN</td>\n",
              "      <td>NaN</td>\n",
              "      <td>NaN</td>\n",
              "      <td>NaN</td>\n",
              "      <td>14</td>\n",
              "      <td>Private Citizens &amp; Property</td>\n",
              "      <td>68.0</td>\n",
              "      <td>Named Civilian</td>\n",
              "      <td>NaN</td>\n",
              "      <td>Julio Guzman</td>\n",
              "      <td>...</td>\n",
              "      <td>NaN</td>\n",
              "      <td>NaN</td>\n",
              "      <td>NaN</td>\n",
              "      <td>1.0</td>\n",
              "      <td>NaN</td>\n",
              "      <td>NaN</td>\n",
              "      <td>0.0</td>\n",
              "      <td>NaN</td>\n",
              "      <td>NaN</td>\n",
              "      <td>0</td>\n",
              "      <td>NaN</td>\n",
              "      <td>NaN</td>\n",
              "      <td>NaN</td>\n",
              "      <td>NaN</td>\n",
              "      <td>0.0</td>\n",
              "      <td>NaN</td>\n",
              "      <td>NaN</td>\n",
              "      <td>NaN</td>\n",
              "      <td>NaN</td>\n",
              "      <td>NaN</td>\n",
              "      <td>NaN</td>\n",
              "      <td>0.0</td>\n",
              "      <td>NaN</td>\n",
              "      <td>NaN</td>\n",
              "      <td>NaN</td>\n",
              "      <td>NaN</td>\n",
              "      <td>NaN</td>\n",
              "      <td>NaN</td>\n",
              "      <td>NaN</td>\n",
              "      <td>NaN</td>\n",
              "      <td>NaN</td>\n",
              "      <td>NaN</td>\n",
              "      <td>NaN</td>\n",
              "      <td>NaN</td>\n",
              "      <td>PGIS</td>\n",
              "      <td>0</td>\n",
              "      <td>0</td>\n",
              "      <td>0</td>\n",
              "      <td>0</td>\n",
              "      <td>NaN</td>\n",
              "    </tr>\n",
              "    <tr>\n",
              "      <th>1</th>\n",
              "      <td>197000000002</td>\n",
              "      <td>1970</td>\n",
              "      <td>0</td>\n",
              "      <td>0</td>\n",
              "      <td>NaN</td>\n",
              "      <td>0</td>\n",
              "      <td>NaN</td>\n",
              "      <td>130</td>\n",
              "      <td>Mexico</td>\n",
              "      <td>1</td>\n",
              "      <td>North America</td>\n",
              "      <td>Federal</td>\n",
              "      <td>Mexico city</td>\n",
              "      <td>19.371887</td>\n",
              "      <td>-99.086624</td>\n",
              "      <td>1.0</td>\n",
              "      <td>0</td>\n",
              "      <td>NaN</td>\n",
              "      <td>NaN</td>\n",
              "      <td>1</td>\n",
              "      <td>1</td>\n",
              "      <td>1</td>\n",
              "      <td>0.0</td>\n",
              "      <td>NaN</td>\n",
              "      <td>NaN</td>\n",
              "      <td>0.0</td>\n",
              "      <td>1</td>\n",
              "      <td>0</td>\n",
              "      <td>6</td>\n",
              "      <td>Hostage Taking (Kidnapping)</td>\n",
              "      <td>NaN</td>\n",
              "      <td>NaN</td>\n",
              "      <td>NaN</td>\n",
              "      <td>NaN</td>\n",
              "      <td>7</td>\n",
              "      <td>Government (Diplomatic)</td>\n",
              "      <td>45.0</td>\n",
              "      <td>Diplomatic Personnel (outside of embassy, cons...</td>\n",
              "      <td>Belgian Ambassador Daughter</td>\n",
              "      <td>Nadine Chaval, daughter</td>\n",
              "      <td>...</td>\n",
              "      <td>NaN</td>\n",
              "      <td>NaN</td>\n",
              "      <td>NaN</td>\n",
              "      <td>0.0</td>\n",
              "      <td>NaN</td>\n",
              "      <td>NaN</td>\n",
              "      <td>0.0</td>\n",
              "      <td>NaN</td>\n",
              "      <td>NaN</td>\n",
              "      <td>0</td>\n",
              "      <td>NaN</td>\n",
              "      <td>NaN</td>\n",
              "      <td>NaN</td>\n",
              "      <td>NaN</td>\n",
              "      <td>1.0</td>\n",
              "      <td>1.0</td>\n",
              "      <td>0.0</td>\n",
              "      <td>NaN</td>\n",
              "      <td>NaN</td>\n",
              "      <td>NaN</td>\n",
              "      <td>Mexico</td>\n",
              "      <td>1.0</td>\n",
              "      <td>800000.0</td>\n",
              "      <td>NaN</td>\n",
              "      <td>NaN</td>\n",
              "      <td>NaN</td>\n",
              "      <td>NaN</td>\n",
              "      <td>NaN</td>\n",
              "      <td>NaN</td>\n",
              "      <td>NaN</td>\n",
              "      <td>NaN</td>\n",
              "      <td>NaN</td>\n",
              "      <td>NaN</td>\n",
              "      <td>NaN</td>\n",
              "      <td>PGIS</td>\n",
              "      <td>0</td>\n",
              "      <td>1</td>\n",
              "      <td>1</td>\n",
              "      <td>1</td>\n",
              "      <td>NaN</td>\n",
              "    </tr>\n",
              "    <tr>\n",
              "      <th>2</th>\n",
              "      <td>197001000001</td>\n",
              "      <td>1970</td>\n",
              "      <td>1</td>\n",
              "      <td>0</td>\n",
              "      <td>NaN</td>\n",
              "      <td>0</td>\n",
              "      <td>NaN</td>\n",
              "      <td>160</td>\n",
              "      <td>Philippines</td>\n",
              "      <td>5</td>\n",
              "      <td>Southeast Asia</td>\n",
              "      <td>Tarlac</td>\n",
              "      <td>Unknown</td>\n",
              "      <td>15.478598</td>\n",
              "      <td>120.599741</td>\n",
              "      <td>4.0</td>\n",
              "      <td>0</td>\n",
              "      <td>NaN</td>\n",
              "      <td>NaN</td>\n",
              "      <td>1</td>\n",
              "      <td>1</td>\n",
              "      <td>1</td>\n",
              "      <td>0.0</td>\n",
              "      <td>NaN</td>\n",
              "      <td>NaN</td>\n",
              "      <td>0.0</td>\n",
              "      <td>1</td>\n",
              "      <td>0</td>\n",
              "      <td>1</td>\n",
              "      <td>Assassination</td>\n",
              "      <td>NaN</td>\n",
              "      <td>NaN</td>\n",
              "      <td>NaN</td>\n",
              "      <td>NaN</td>\n",
              "      <td>10</td>\n",
              "      <td>Journalists &amp; Media</td>\n",
              "      <td>54.0</td>\n",
              "      <td>Radio Journalist/Staff/Facility</td>\n",
              "      <td>Voice of America</td>\n",
              "      <td>Employee</td>\n",
              "      <td>...</td>\n",
              "      <td>NaN</td>\n",
              "      <td>NaN</td>\n",
              "      <td>NaN</td>\n",
              "      <td>1.0</td>\n",
              "      <td>NaN</td>\n",
              "      <td>NaN</td>\n",
              "      <td>0.0</td>\n",
              "      <td>NaN</td>\n",
              "      <td>NaN</td>\n",
              "      <td>0</td>\n",
              "      <td>NaN</td>\n",
              "      <td>NaN</td>\n",
              "      <td>NaN</td>\n",
              "      <td>NaN</td>\n",
              "      <td>0.0</td>\n",
              "      <td>NaN</td>\n",
              "      <td>NaN</td>\n",
              "      <td>NaN</td>\n",
              "      <td>NaN</td>\n",
              "      <td>NaN</td>\n",
              "      <td>NaN</td>\n",
              "      <td>0.0</td>\n",
              "      <td>NaN</td>\n",
              "      <td>NaN</td>\n",
              "      <td>NaN</td>\n",
              "      <td>NaN</td>\n",
              "      <td>NaN</td>\n",
              "      <td>NaN</td>\n",
              "      <td>NaN</td>\n",
              "      <td>NaN</td>\n",
              "      <td>NaN</td>\n",
              "      <td>NaN</td>\n",
              "      <td>NaN</td>\n",
              "      <td>NaN</td>\n",
              "      <td>PGIS</td>\n",
              "      <td>-9</td>\n",
              "      <td>-9</td>\n",
              "      <td>1</td>\n",
              "      <td>1</td>\n",
              "      <td>NaN</td>\n",
              "    </tr>\n",
              "    <tr>\n",
              "      <th>3</th>\n",
              "      <td>197001000002</td>\n",
              "      <td>1970</td>\n",
              "      <td>1</td>\n",
              "      <td>0</td>\n",
              "      <td>NaN</td>\n",
              "      <td>0</td>\n",
              "      <td>NaN</td>\n",
              "      <td>78</td>\n",
              "      <td>Greece</td>\n",
              "      <td>8</td>\n",
              "      <td>Western Europe</td>\n",
              "      <td>Attica</td>\n",
              "      <td>Athens</td>\n",
              "      <td>37.997490</td>\n",
              "      <td>23.762728</td>\n",
              "      <td>1.0</td>\n",
              "      <td>0</td>\n",
              "      <td>NaN</td>\n",
              "      <td>NaN</td>\n",
              "      <td>1</td>\n",
              "      <td>1</td>\n",
              "      <td>1</td>\n",
              "      <td>0.0</td>\n",
              "      <td>NaN</td>\n",
              "      <td>NaN</td>\n",
              "      <td>0.0</td>\n",
              "      <td>1</td>\n",
              "      <td>0</td>\n",
              "      <td>3</td>\n",
              "      <td>Bombing/Explosion</td>\n",
              "      <td>NaN</td>\n",
              "      <td>NaN</td>\n",
              "      <td>NaN</td>\n",
              "      <td>NaN</td>\n",
              "      <td>7</td>\n",
              "      <td>Government (Diplomatic)</td>\n",
              "      <td>46.0</td>\n",
              "      <td>Embassy/Consulate</td>\n",
              "      <td>NaN</td>\n",
              "      <td>U.S. Embassy</td>\n",
              "      <td>...</td>\n",
              "      <td>NaN</td>\n",
              "      <td>NaN</td>\n",
              "      <td>Explosive</td>\n",
              "      <td>NaN</td>\n",
              "      <td>NaN</td>\n",
              "      <td>NaN</td>\n",
              "      <td>NaN</td>\n",
              "      <td>NaN</td>\n",
              "      <td>NaN</td>\n",
              "      <td>1</td>\n",
              "      <td>NaN</td>\n",
              "      <td>NaN</td>\n",
              "      <td>NaN</td>\n",
              "      <td>NaN</td>\n",
              "      <td>0.0</td>\n",
              "      <td>NaN</td>\n",
              "      <td>NaN</td>\n",
              "      <td>NaN</td>\n",
              "      <td>NaN</td>\n",
              "      <td>NaN</td>\n",
              "      <td>NaN</td>\n",
              "      <td>0.0</td>\n",
              "      <td>NaN</td>\n",
              "      <td>NaN</td>\n",
              "      <td>NaN</td>\n",
              "      <td>NaN</td>\n",
              "      <td>NaN</td>\n",
              "      <td>NaN</td>\n",
              "      <td>NaN</td>\n",
              "      <td>NaN</td>\n",
              "      <td>NaN</td>\n",
              "      <td>NaN</td>\n",
              "      <td>NaN</td>\n",
              "      <td>NaN</td>\n",
              "      <td>PGIS</td>\n",
              "      <td>-9</td>\n",
              "      <td>-9</td>\n",
              "      <td>1</td>\n",
              "      <td>1</td>\n",
              "      <td>NaN</td>\n",
              "    </tr>\n",
              "    <tr>\n",
              "      <th>4</th>\n",
              "      <td>197001000003</td>\n",
              "      <td>1970</td>\n",
              "      <td>1</td>\n",
              "      <td>0</td>\n",
              "      <td>NaN</td>\n",
              "      <td>0</td>\n",
              "      <td>NaN</td>\n",
              "      <td>101</td>\n",
              "      <td>Japan</td>\n",
              "      <td>4</td>\n",
              "      <td>East Asia</td>\n",
              "      <td>Fukouka</td>\n",
              "      <td>Fukouka</td>\n",
              "      <td>33.580412</td>\n",
              "      <td>130.396361</td>\n",
              "      <td>1.0</td>\n",
              "      <td>0</td>\n",
              "      <td>NaN</td>\n",
              "      <td>NaN</td>\n",
              "      <td>1</td>\n",
              "      <td>1</td>\n",
              "      <td>1</td>\n",
              "      <td>-9.0</td>\n",
              "      <td>NaN</td>\n",
              "      <td>NaN</td>\n",
              "      <td>0.0</td>\n",
              "      <td>1</td>\n",
              "      <td>0</td>\n",
              "      <td>7</td>\n",
              "      <td>Facility/Infrastructure Attack</td>\n",
              "      <td>NaN</td>\n",
              "      <td>NaN</td>\n",
              "      <td>NaN</td>\n",
              "      <td>NaN</td>\n",
              "      <td>7</td>\n",
              "      <td>Government (Diplomatic)</td>\n",
              "      <td>46.0</td>\n",
              "      <td>Embassy/Consulate</td>\n",
              "      <td>NaN</td>\n",
              "      <td>U.S. Consulate</td>\n",
              "      <td>...</td>\n",
              "      <td>NaN</td>\n",
              "      <td>NaN</td>\n",
              "      <td>Incendiary</td>\n",
              "      <td>NaN</td>\n",
              "      <td>NaN</td>\n",
              "      <td>NaN</td>\n",
              "      <td>NaN</td>\n",
              "      <td>NaN</td>\n",
              "      <td>NaN</td>\n",
              "      <td>1</td>\n",
              "      <td>NaN</td>\n",
              "      <td>NaN</td>\n",
              "      <td>NaN</td>\n",
              "      <td>NaN</td>\n",
              "      <td>0.0</td>\n",
              "      <td>NaN</td>\n",
              "      <td>NaN</td>\n",
              "      <td>NaN</td>\n",
              "      <td>NaN</td>\n",
              "      <td>NaN</td>\n",
              "      <td>NaN</td>\n",
              "      <td>0.0</td>\n",
              "      <td>NaN</td>\n",
              "      <td>NaN</td>\n",
              "      <td>NaN</td>\n",
              "      <td>NaN</td>\n",
              "      <td>NaN</td>\n",
              "      <td>NaN</td>\n",
              "      <td>NaN</td>\n",
              "      <td>NaN</td>\n",
              "      <td>NaN</td>\n",
              "      <td>NaN</td>\n",
              "      <td>NaN</td>\n",
              "      <td>NaN</td>\n",
              "      <td>PGIS</td>\n",
              "      <td>-9</td>\n",
              "      <td>-9</td>\n",
              "      <td>1</td>\n",
              "      <td>1</td>\n",
              "      <td>NaN</td>\n",
              "    </tr>\n",
              "  </tbody>\n",
              "</table>\n",
              "<p>5 rows × 135 columns</p>\n",
              "</div>"
            ],
            "text/plain": [
              "        eventid  iyear  imonth  iday  ... INT_IDEO  INT_MISC INT_ANY  related\n",
              "0  197000000001   1970       7     2  ...        0         0       0      NaN\n",
              "1  197000000002   1970       0     0  ...        1         1       1      NaN\n",
              "2  197001000001   1970       1     0  ...       -9         1       1      NaN\n",
              "3  197001000002   1970       1     0  ...       -9         1       1      NaN\n",
              "4  197001000003   1970       1     0  ...       -9         1       1      NaN\n",
              "\n",
              "[5 rows x 135 columns]"
            ]
          },
          "metadata": {
            "tags": []
          },
          "execution_count": 5
        }
      ]
    },
    {
      "cell_type": "markdown",
      "metadata": {
        "id": "I2GxUYxoLsX7"
      },
      "source": [
        "##### In This Notebook i will be cleaning and decompressing the dataset i.e performing the initial pre processing of the data for The Analysis purpose"
      ]
    },
    {
      "cell_type": "code",
      "metadata": {
        "colab": {
          "base_uri": "https://localhost:8080/"
        },
        "id": "ozt6_L_DlOK-",
        "outputId": "c47f8f4b-1923-4836-82f3-5668acd52c20"
      },
      "source": [
        "#Find the shape of the dataset\n",
        "dataset.shape"
      ],
      "execution_count": null,
      "outputs": [
        {
          "output_type": "execute_result",
          "data": {
            "text/plain": [
              "(181691, 135)"
            ]
          },
          "metadata": {
            "tags": []
          },
          "execution_count": 6
        }
      ]
    },
    {
      "cell_type": "markdown",
      "metadata": {
        "id": "-KVf6tD-_nTg"
      },
      "source": [
        "Here we can see that the dataset has 135 features and 181691 Examples we will use only those columns which are required for Data analysis and clean the dataset before that let us check the null values in the dataset."
      ]
    },
    {
      "cell_type": "code",
      "metadata": {
        "colab": {
          "base_uri": "https://localhost:8080/"
        },
        "id": "Kc09yGtplSjn",
        "outputId": "7f243667-778c-49fd-fa65-0260a7e8c7b2"
      },
      "source": [
        "#To find the column names\n",
        "dataset.columns"
      ],
      "execution_count": null,
      "outputs": [
        {
          "output_type": "execute_result",
          "data": {
            "text/plain": [
              "Index(['eventid', 'iyear', 'imonth', 'iday', 'approxdate', 'extended',\n",
              "       'resolution', 'country', 'country_txt', 'region',\n",
              "       ...\n",
              "       'addnotes', 'scite1', 'scite2', 'scite3', 'dbsource', 'INT_LOG',\n",
              "       'INT_IDEO', 'INT_MISC', 'INT_ANY', 'related'],\n",
              "      dtype='object', length=135)"
            ]
          },
          "metadata": {
            "tags": []
          },
          "execution_count": 7
        }
      ]
    },
    {
      "cell_type": "code",
      "metadata": {
        "id": "4-Mp_J7y-Ncw"
      },
      "source": [
        "#check for null values in the dataset\n",
        "col_ser = pd.Series(dataset.isnull().sum())"
      ],
      "execution_count": null,
      "outputs": []
    },
    {
      "cell_type": "code",
      "metadata": {
        "colab": {
          "base_uri": "https://localhost:8080/"
        },
        "id": "nfUJHXC1-Ym9",
        "outputId": "d1239a49-e027-44ef-f93d-177a8119e1fc"
      },
      "source": [
        "col_ser[:50]"
      ],
      "execution_count": null,
      "outputs": [
        {
          "output_type": "execute_result",
          "data": {
            "text/plain": [
              "eventid                  0\n",
              "iyear                    0\n",
              "imonth                   0\n",
              "iday                     0\n",
              "approxdate          172452\n",
              "extended                 0\n",
              "resolution          179471\n",
              "country                  0\n",
              "country_txt              0\n",
              "region                   0\n",
              "region_txt               0\n",
              "provstate              421\n",
              "city                   434\n",
              "latitude              4556\n",
              "longitude             4557\n",
              "specificity              6\n",
              "vicinity                 0\n",
              "location            126196\n",
              "summary              66129\n",
              "crit1                    0\n",
              "crit2                    0\n",
              "crit3                    0\n",
              "doubtterr                1\n",
              "alternative         152680\n",
              "alternative_txt     152680\n",
              "multiple                 1\n",
              "success                  0\n",
              "suicide                  0\n",
              "attacktype1              0\n",
              "attacktype1_txt          0\n",
              "attacktype2         175377\n",
              "attacktype2_txt     175377\n",
              "attacktype3         181263\n",
              "attacktype3_txt     181263\n",
              "targtype1                0\n",
              "targtype1_txt            0\n",
              "targsubtype1         10373\n",
              "targsubtype1_txt     10373\n",
              "corp1                42550\n",
              "target1                636\n",
              "natlty1               1559\n",
              "natlty1_txt           1559\n",
              "targtype2           170547\n",
              "targtype2_txt       170547\n",
              "targsubtype2        171006\n",
              "targsubtype2_txt    171006\n",
              "corp2               171574\n",
              "target2             170671\n",
              "natlty2             170863\n",
              "natlty2_txt         170863\n",
              "dtype: int64"
            ]
          },
          "metadata": {
            "tags": []
          },
          "execution_count": 9
        }
      ]
    },
    {
      "cell_type": "markdown",
      "metadata": {
        "id": "Xq7sdc0JAup0"
      },
      "source": [
        "Most of the features have large number of null values which has to be taken care of hence  will delete the features which has more than 10% of the Null values of the examples."
      ]
    },
    {
      "cell_type": "code",
      "metadata": {
        "id": "PAqlojKo-l2O"
      },
      "source": [
        "null_threshold = dataset.shape[0]*0.1\n",
        "dataset_new = dataset.drop(dataset.columns[dataset.apply(lambda col:col.isnull().sum()>null_threshold)],axis=1)"
      ],
      "execution_count": null,
      "outputs": []
    },
    {
      "cell_type": "code",
      "metadata": {
        "colab": {
          "base_uri": "https://localhost:8080/"
        },
        "id": "_GAnmKKrCWdT",
        "outputId": "4174bede-4f26-4bc8-bdd5-bb9bfa6c580c"
      },
      "source": [
        "dataset_new.shape"
      ],
      "execution_count": null,
      "outputs": [
        {
          "output_type": "execute_result",
          "data": {
            "text/plain": [
              "(181691, 45)"
            ]
          },
          "metadata": {
            "tags": []
          },
          "execution_count": 11
        }
      ]
    },
    {
      "cell_type": "code",
      "metadata": {
        "colab": {
          "base_uri": "https://localhost:8080/",
          "height": 360
        },
        "id": "yRAgfLsv0Keh",
        "outputId": "a497f384-e67c-4b70-c2f1-e0f94230d055"
      },
      "source": [
        "dataset_new.head()"
      ],
      "execution_count": null,
      "outputs": [
        {
          "output_type": "execute_result",
          "data": {
            "text/html": [
              "<div>\n",
              "<style scoped>\n",
              "    .dataframe tbody tr th:only-of-type {\n",
              "        vertical-align: middle;\n",
              "    }\n",
              "\n",
              "    .dataframe tbody tr th {\n",
              "        vertical-align: top;\n",
              "    }\n",
              "\n",
              "    .dataframe thead th {\n",
              "        text-align: right;\n",
              "    }\n",
              "</style>\n",
              "<table border=\"1\" class=\"dataframe\">\n",
              "  <thead>\n",
              "    <tr style=\"text-align: right;\">\n",
              "      <th></th>\n",
              "      <th>eventid</th>\n",
              "      <th>iyear</th>\n",
              "      <th>imonth</th>\n",
              "      <th>iday</th>\n",
              "      <th>extended</th>\n",
              "      <th>country</th>\n",
              "      <th>country_txt</th>\n",
              "      <th>region</th>\n",
              "      <th>region_txt</th>\n",
              "      <th>provstate</th>\n",
              "      <th>city</th>\n",
              "      <th>latitude</th>\n",
              "      <th>longitude</th>\n",
              "      <th>specificity</th>\n",
              "      <th>vicinity</th>\n",
              "      <th>crit1</th>\n",
              "      <th>crit2</th>\n",
              "      <th>crit3</th>\n",
              "      <th>doubtterr</th>\n",
              "      <th>multiple</th>\n",
              "      <th>success</th>\n",
              "      <th>suicide</th>\n",
              "      <th>attacktype1</th>\n",
              "      <th>attacktype1_txt</th>\n",
              "      <th>targtype1</th>\n",
              "      <th>targtype1_txt</th>\n",
              "      <th>targsubtype1</th>\n",
              "      <th>targsubtype1_txt</th>\n",
              "      <th>target1</th>\n",
              "      <th>natlty1</th>\n",
              "      <th>natlty1_txt</th>\n",
              "      <th>gname</th>\n",
              "      <th>guncertain1</th>\n",
              "      <th>individual</th>\n",
              "      <th>weaptype1</th>\n",
              "      <th>weaptype1_txt</th>\n",
              "      <th>nkill</th>\n",
              "      <th>nwound</th>\n",
              "      <th>property</th>\n",
              "      <th>ishostkid</th>\n",
              "      <th>dbsource</th>\n",
              "      <th>INT_LOG</th>\n",
              "      <th>INT_IDEO</th>\n",
              "      <th>INT_MISC</th>\n",
              "      <th>INT_ANY</th>\n",
              "    </tr>\n",
              "  </thead>\n",
              "  <tbody>\n",
              "    <tr>\n",
              "      <th>0</th>\n",
              "      <td>197000000001</td>\n",
              "      <td>1970</td>\n",
              "      <td>7</td>\n",
              "      <td>2</td>\n",
              "      <td>0</td>\n",
              "      <td>58</td>\n",
              "      <td>Dominican Republic</td>\n",
              "      <td>2</td>\n",
              "      <td>Central America &amp; Caribbean</td>\n",
              "      <td>NaN</td>\n",
              "      <td>Santo Domingo</td>\n",
              "      <td>18.456792</td>\n",
              "      <td>-69.951164</td>\n",
              "      <td>1.0</td>\n",
              "      <td>0</td>\n",
              "      <td>1</td>\n",
              "      <td>1</td>\n",
              "      <td>1</td>\n",
              "      <td>0.0</td>\n",
              "      <td>0.0</td>\n",
              "      <td>1</td>\n",
              "      <td>0</td>\n",
              "      <td>1</td>\n",
              "      <td>Assassination</td>\n",
              "      <td>14</td>\n",
              "      <td>Private Citizens &amp; Property</td>\n",
              "      <td>68.0</td>\n",
              "      <td>Named Civilian</td>\n",
              "      <td>Julio Guzman</td>\n",
              "      <td>58.0</td>\n",
              "      <td>Dominican Republic</td>\n",
              "      <td>MANO-D</td>\n",
              "      <td>0.0</td>\n",
              "      <td>0</td>\n",
              "      <td>13</td>\n",
              "      <td>Unknown</td>\n",
              "      <td>1.0</td>\n",
              "      <td>0.0</td>\n",
              "      <td>0</td>\n",
              "      <td>0.0</td>\n",
              "      <td>PGIS</td>\n",
              "      <td>0</td>\n",
              "      <td>0</td>\n",
              "      <td>0</td>\n",
              "      <td>0</td>\n",
              "    </tr>\n",
              "    <tr>\n",
              "      <th>1</th>\n",
              "      <td>197000000002</td>\n",
              "      <td>1970</td>\n",
              "      <td>0</td>\n",
              "      <td>0</td>\n",
              "      <td>0</td>\n",
              "      <td>130</td>\n",
              "      <td>Mexico</td>\n",
              "      <td>1</td>\n",
              "      <td>North America</td>\n",
              "      <td>Federal</td>\n",
              "      <td>Mexico city</td>\n",
              "      <td>19.371887</td>\n",
              "      <td>-99.086624</td>\n",
              "      <td>1.0</td>\n",
              "      <td>0</td>\n",
              "      <td>1</td>\n",
              "      <td>1</td>\n",
              "      <td>1</td>\n",
              "      <td>0.0</td>\n",
              "      <td>0.0</td>\n",
              "      <td>1</td>\n",
              "      <td>0</td>\n",
              "      <td>6</td>\n",
              "      <td>Hostage Taking (Kidnapping)</td>\n",
              "      <td>7</td>\n",
              "      <td>Government (Diplomatic)</td>\n",
              "      <td>45.0</td>\n",
              "      <td>Diplomatic Personnel (outside of embassy, cons...</td>\n",
              "      <td>Nadine Chaval, daughter</td>\n",
              "      <td>21.0</td>\n",
              "      <td>Belgium</td>\n",
              "      <td>23rd of September Communist League</td>\n",
              "      <td>0.0</td>\n",
              "      <td>0</td>\n",
              "      <td>13</td>\n",
              "      <td>Unknown</td>\n",
              "      <td>0.0</td>\n",
              "      <td>0.0</td>\n",
              "      <td>0</td>\n",
              "      <td>1.0</td>\n",
              "      <td>PGIS</td>\n",
              "      <td>0</td>\n",
              "      <td>1</td>\n",
              "      <td>1</td>\n",
              "      <td>1</td>\n",
              "    </tr>\n",
              "    <tr>\n",
              "      <th>2</th>\n",
              "      <td>197001000001</td>\n",
              "      <td>1970</td>\n",
              "      <td>1</td>\n",
              "      <td>0</td>\n",
              "      <td>0</td>\n",
              "      <td>160</td>\n",
              "      <td>Philippines</td>\n",
              "      <td>5</td>\n",
              "      <td>Southeast Asia</td>\n",
              "      <td>Tarlac</td>\n",
              "      <td>Unknown</td>\n",
              "      <td>15.478598</td>\n",
              "      <td>120.599741</td>\n",
              "      <td>4.0</td>\n",
              "      <td>0</td>\n",
              "      <td>1</td>\n",
              "      <td>1</td>\n",
              "      <td>1</td>\n",
              "      <td>0.0</td>\n",
              "      <td>0.0</td>\n",
              "      <td>1</td>\n",
              "      <td>0</td>\n",
              "      <td>1</td>\n",
              "      <td>Assassination</td>\n",
              "      <td>10</td>\n",
              "      <td>Journalists &amp; Media</td>\n",
              "      <td>54.0</td>\n",
              "      <td>Radio Journalist/Staff/Facility</td>\n",
              "      <td>Employee</td>\n",
              "      <td>217.0</td>\n",
              "      <td>United States</td>\n",
              "      <td>Unknown</td>\n",
              "      <td>0.0</td>\n",
              "      <td>0</td>\n",
              "      <td>13</td>\n",
              "      <td>Unknown</td>\n",
              "      <td>1.0</td>\n",
              "      <td>0.0</td>\n",
              "      <td>0</td>\n",
              "      <td>0.0</td>\n",
              "      <td>PGIS</td>\n",
              "      <td>-9</td>\n",
              "      <td>-9</td>\n",
              "      <td>1</td>\n",
              "      <td>1</td>\n",
              "    </tr>\n",
              "    <tr>\n",
              "      <th>3</th>\n",
              "      <td>197001000002</td>\n",
              "      <td>1970</td>\n",
              "      <td>1</td>\n",
              "      <td>0</td>\n",
              "      <td>0</td>\n",
              "      <td>78</td>\n",
              "      <td>Greece</td>\n",
              "      <td>8</td>\n",
              "      <td>Western Europe</td>\n",
              "      <td>Attica</td>\n",
              "      <td>Athens</td>\n",
              "      <td>37.997490</td>\n",
              "      <td>23.762728</td>\n",
              "      <td>1.0</td>\n",
              "      <td>0</td>\n",
              "      <td>1</td>\n",
              "      <td>1</td>\n",
              "      <td>1</td>\n",
              "      <td>0.0</td>\n",
              "      <td>0.0</td>\n",
              "      <td>1</td>\n",
              "      <td>0</td>\n",
              "      <td>3</td>\n",
              "      <td>Bombing/Explosion</td>\n",
              "      <td>7</td>\n",
              "      <td>Government (Diplomatic)</td>\n",
              "      <td>46.0</td>\n",
              "      <td>Embassy/Consulate</td>\n",
              "      <td>U.S. Embassy</td>\n",
              "      <td>217.0</td>\n",
              "      <td>United States</td>\n",
              "      <td>Unknown</td>\n",
              "      <td>0.0</td>\n",
              "      <td>0</td>\n",
              "      <td>6</td>\n",
              "      <td>Explosives</td>\n",
              "      <td>NaN</td>\n",
              "      <td>NaN</td>\n",
              "      <td>1</td>\n",
              "      <td>0.0</td>\n",
              "      <td>PGIS</td>\n",
              "      <td>-9</td>\n",
              "      <td>-9</td>\n",
              "      <td>1</td>\n",
              "      <td>1</td>\n",
              "    </tr>\n",
              "    <tr>\n",
              "      <th>4</th>\n",
              "      <td>197001000003</td>\n",
              "      <td>1970</td>\n",
              "      <td>1</td>\n",
              "      <td>0</td>\n",
              "      <td>0</td>\n",
              "      <td>101</td>\n",
              "      <td>Japan</td>\n",
              "      <td>4</td>\n",
              "      <td>East Asia</td>\n",
              "      <td>Fukouka</td>\n",
              "      <td>Fukouka</td>\n",
              "      <td>33.580412</td>\n",
              "      <td>130.396361</td>\n",
              "      <td>1.0</td>\n",
              "      <td>0</td>\n",
              "      <td>1</td>\n",
              "      <td>1</td>\n",
              "      <td>1</td>\n",
              "      <td>-9.0</td>\n",
              "      <td>0.0</td>\n",
              "      <td>1</td>\n",
              "      <td>0</td>\n",
              "      <td>7</td>\n",
              "      <td>Facility/Infrastructure Attack</td>\n",
              "      <td>7</td>\n",
              "      <td>Government (Diplomatic)</td>\n",
              "      <td>46.0</td>\n",
              "      <td>Embassy/Consulate</td>\n",
              "      <td>U.S. Consulate</td>\n",
              "      <td>217.0</td>\n",
              "      <td>United States</td>\n",
              "      <td>Unknown</td>\n",
              "      <td>0.0</td>\n",
              "      <td>0</td>\n",
              "      <td>8</td>\n",
              "      <td>Incendiary</td>\n",
              "      <td>NaN</td>\n",
              "      <td>NaN</td>\n",
              "      <td>1</td>\n",
              "      <td>0.0</td>\n",
              "      <td>PGIS</td>\n",
              "      <td>-9</td>\n",
              "      <td>-9</td>\n",
              "      <td>1</td>\n",
              "      <td>1</td>\n",
              "    </tr>\n",
              "  </tbody>\n",
              "</table>\n",
              "</div>"
            ],
            "text/plain": [
              "        eventid  iyear  imonth  iday  ...  INT_LOG  INT_IDEO INT_MISC  INT_ANY\n",
              "0  197000000001   1970       7     2  ...        0         0        0        0\n",
              "1  197000000002   1970       0     0  ...        0         1        1        1\n",
              "2  197001000001   1970       1     0  ...       -9        -9        1        1\n",
              "3  197001000002   1970       1     0  ...       -9        -9        1        1\n",
              "4  197001000003   1970       1     0  ...       -9        -9        1        1\n",
              "\n",
              "[5 rows x 45 columns]"
            ]
          },
          "metadata": {
            "tags": []
          },
          "execution_count": 12
        }
      ]
    },
    {
      "cell_type": "markdown",
      "metadata": {
        "id": "1nYQozEk0RMS"
      },
      "source": [
        "### Feature Selection for Data Analysis and Renaming the Columns\n",
        "\n",
        "Selecting the columns which are required for Data Analysis and Renaming the columns to the most desired type."
      ]
    },
    {
      "cell_type": "code",
      "metadata": {
        "colab": {
          "base_uri": "https://localhost:8080/"
        },
        "id": "KyebdE_0026S",
        "outputId": "d07d87e6-b74d-468b-fc06-1b751154da78"
      },
      "source": [
        "dataset_new.columns"
      ],
      "execution_count": null,
      "outputs": [
        {
          "output_type": "execute_result",
          "data": {
            "text/plain": [
              "Index(['eventid', 'iyear', 'imonth', 'iday', 'extended', 'country',\n",
              "       'country_txt', 'region', 'region_txt', 'provstate', 'city', 'latitude',\n",
              "       'longitude', 'specificity', 'vicinity', 'crit1', 'crit2', 'crit3',\n",
              "       'doubtterr', 'multiple', 'success', 'suicide', 'attacktype1',\n",
              "       'attacktype1_txt', 'targtype1', 'targtype1_txt', 'targsubtype1',\n",
              "       'targsubtype1_txt', 'target1', 'natlty1', 'natlty1_txt', 'gname',\n",
              "       'guncertain1', 'individual', 'weaptype1', 'weaptype1_txt', 'nkill',\n",
              "       'nwound', 'property', 'ishostkid', 'dbsource', 'INT_LOG', 'INT_IDEO',\n",
              "       'INT_MISC', 'INT_ANY'],\n",
              "      dtype='object')"
            ]
          },
          "metadata": {
            "tags": []
          },
          "execution_count": 13
        }
      ]
    },
    {
      "cell_type": "code",
      "metadata": {
        "colab": {
          "base_uri": "https://localhost:8080/",
          "height": 360
        },
        "id": "Z7j9jTHr0Qep",
        "outputId": "44d74eae-68bd-42e8-e3c3-2dfc2f8f3dec"
      },
      "source": [
        "columns_required = ['eventid','iyear','country_txt','region_txt','provstate','city','latitude','longitude','specificity','success','suicide',\n",
        "                    'attacktype1_txt','targtype1_txt','targsubtype1_txt','gname','weaptype1_txt','nkill','nwound']\n",
        "\n",
        "#Renaming the columns\n",
        "col_names = ['ID','Year','Country','Region','State','City','Latitude','Longitude','Specificity','Is_Success','Suicide',\n",
        "             'Attacktype','Targettype','Targetsubtype','Terror_Group','Weapontype','Kills','Wounded']\n",
        "\n",
        "terrorist_data = dataset_new[columns_required]\n",
        "terrorist_data.columns = col_names\n",
        "\n",
        "terrorist_data.head()"
      ],
      "execution_count": null,
      "outputs": [
        {
          "output_type": "execute_result",
          "data": {
            "text/html": [
              "<div>\n",
              "<style scoped>\n",
              "    .dataframe tbody tr th:only-of-type {\n",
              "        vertical-align: middle;\n",
              "    }\n",
              "\n",
              "    .dataframe tbody tr th {\n",
              "        vertical-align: top;\n",
              "    }\n",
              "\n",
              "    .dataframe thead th {\n",
              "        text-align: right;\n",
              "    }\n",
              "</style>\n",
              "<table border=\"1\" class=\"dataframe\">\n",
              "  <thead>\n",
              "    <tr style=\"text-align: right;\">\n",
              "      <th></th>\n",
              "      <th>ID</th>\n",
              "      <th>Year</th>\n",
              "      <th>Country</th>\n",
              "      <th>Region</th>\n",
              "      <th>State</th>\n",
              "      <th>City</th>\n",
              "      <th>Latitude</th>\n",
              "      <th>Longitude</th>\n",
              "      <th>Specificity</th>\n",
              "      <th>Is_Success</th>\n",
              "      <th>Suicide</th>\n",
              "      <th>Attacktype</th>\n",
              "      <th>Targettype</th>\n",
              "      <th>Targetsubtype</th>\n",
              "      <th>Terror_Group</th>\n",
              "      <th>Weapontype</th>\n",
              "      <th>Kills</th>\n",
              "      <th>Wounded</th>\n",
              "    </tr>\n",
              "  </thead>\n",
              "  <tbody>\n",
              "    <tr>\n",
              "      <th>0</th>\n",
              "      <td>197000000001</td>\n",
              "      <td>1970</td>\n",
              "      <td>Dominican Republic</td>\n",
              "      <td>Central America &amp; Caribbean</td>\n",
              "      <td>NaN</td>\n",
              "      <td>Santo Domingo</td>\n",
              "      <td>18.456792</td>\n",
              "      <td>-69.951164</td>\n",
              "      <td>1.0</td>\n",
              "      <td>1</td>\n",
              "      <td>0</td>\n",
              "      <td>Assassination</td>\n",
              "      <td>Private Citizens &amp; Property</td>\n",
              "      <td>Named Civilian</td>\n",
              "      <td>MANO-D</td>\n",
              "      <td>Unknown</td>\n",
              "      <td>1.0</td>\n",
              "      <td>0.0</td>\n",
              "    </tr>\n",
              "    <tr>\n",
              "      <th>1</th>\n",
              "      <td>197000000002</td>\n",
              "      <td>1970</td>\n",
              "      <td>Mexico</td>\n",
              "      <td>North America</td>\n",
              "      <td>Federal</td>\n",
              "      <td>Mexico city</td>\n",
              "      <td>19.371887</td>\n",
              "      <td>-99.086624</td>\n",
              "      <td>1.0</td>\n",
              "      <td>1</td>\n",
              "      <td>0</td>\n",
              "      <td>Hostage Taking (Kidnapping)</td>\n",
              "      <td>Government (Diplomatic)</td>\n",
              "      <td>Diplomatic Personnel (outside of embassy, cons...</td>\n",
              "      <td>23rd of September Communist League</td>\n",
              "      <td>Unknown</td>\n",
              "      <td>0.0</td>\n",
              "      <td>0.0</td>\n",
              "    </tr>\n",
              "    <tr>\n",
              "      <th>2</th>\n",
              "      <td>197001000001</td>\n",
              "      <td>1970</td>\n",
              "      <td>Philippines</td>\n",
              "      <td>Southeast Asia</td>\n",
              "      <td>Tarlac</td>\n",
              "      <td>Unknown</td>\n",
              "      <td>15.478598</td>\n",
              "      <td>120.599741</td>\n",
              "      <td>4.0</td>\n",
              "      <td>1</td>\n",
              "      <td>0</td>\n",
              "      <td>Assassination</td>\n",
              "      <td>Journalists &amp; Media</td>\n",
              "      <td>Radio Journalist/Staff/Facility</td>\n",
              "      <td>Unknown</td>\n",
              "      <td>Unknown</td>\n",
              "      <td>1.0</td>\n",
              "      <td>0.0</td>\n",
              "    </tr>\n",
              "    <tr>\n",
              "      <th>3</th>\n",
              "      <td>197001000002</td>\n",
              "      <td>1970</td>\n",
              "      <td>Greece</td>\n",
              "      <td>Western Europe</td>\n",
              "      <td>Attica</td>\n",
              "      <td>Athens</td>\n",
              "      <td>37.997490</td>\n",
              "      <td>23.762728</td>\n",
              "      <td>1.0</td>\n",
              "      <td>1</td>\n",
              "      <td>0</td>\n",
              "      <td>Bombing/Explosion</td>\n",
              "      <td>Government (Diplomatic)</td>\n",
              "      <td>Embassy/Consulate</td>\n",
              "      <td>Unknown</td>\n",
              "      <td>Explosives</td>\n",
              "      <td>NaN</td>\n",
              "      <td>NaN</td>\n",
              "    </tr>\n",
              "    <tr>\n",
              "      <th>4</th>\n",
              "      <td>197001000003</td>\n",
              "      <td>1970</td>\n",
              "      <td>Japan</td>\n",
              "      <td>East Asia</td>\n",
              "      <td>Fukouka</td>\n",
              "      <td>Fukouka</td>\n",
              "      <td>33.580412</td>\n",
              "      <td>130.396361</td>\n",
              "      <td>1.0</td>\n",
              "      <td>1</td>\n",
              "      <td>0</td>\n",
              "      <td>Facility/Infrastructure Attack</td>\n",
              "      <td>Government (Diplomatic)</td>\n",
              "      <td>Embassy/Consulate</td>\n",
              "      <td>Unknown</td>\n",
              "      <td>Incendiary</td>\n",
              "      <td>NaN</td>\n",
              "      <td>NaN</td>\n",
              "    </tr>\n",
              "  </tbody>\n",
              "</table>\n",
              "</div>"
            ],
            "text/plain": [
              "             ID  Year             Country  ...  Weapontype Kills Wounded\n",
              "0  197000000001  1970  Dominican Republic  ...     Unknown   1.0     0.0\n",
              "1  197000000002  1970              Mexico  ...     Unknown   0.0     0.0\n",
              "2  197001000001  1970         Philippines  ...     Unknown   1.0     0.0\n",
              "3  197001000002  1970              Greece  ...  Explosives   NaN     NaN\n",
              "4  197001000003  1970               Japan  ...  Incendiary   NaN     NaN\n",
              "\n",
              "[5 rows x 18 columns]"
            ]
          },
          "metadata": {
            "tags": []
          },
          "execution_count": 14
        }
      ]
    },
    {
      "cell_type": "code",
      "metadata": {
        "colab": {
          "base_uri": "https://localhost:8080/"
        },
        "id": "Wkfu7_faCYzz",
        "outputId": "cb3dacb3-e488-4220-b3d1-7b4ae66f211e"
      },
      "source": [
        "#check for null values in the dataset\n",
        "col_ser = pd.Series(terrorist_data.isnull().sum())\n",
        "col_ser"
      ],
      "execution_count": null,
      "outputs": [
        {
          "output_type": "execute_result",
          "data": {
            "text/plain": [
              "ID                   0\n",
              "Year                 0\n",
              "Country              0\n",
              "Region               0\n",
              "State              421\n",
              "City               434\n",
              "Latitude          4556\n",
              "Longitude         4557\n",
              "Specificity          6\n",
              "Is_Success           0\n",
              "Suicide              0\n",
              "Attacktype           0\n",
              "Targettype           0\n",
              "Targetsubtype    10373\n",
              "Terror_Group         0\n",
              "Weapontype           0\n",
              "Kills            10313\n",
              "Wounded          16311\n",
              "dtype: int64"
            ]
          },
          "metadata": {
            "tags": []
          },
          "execution_count": 15
        }
      ]
    },
    {
      "cell_type": "code",
      "metadata": {
        "colab": {
          "base_uri": "https://localhost:8080/"
        },
        "id": "4SFmDxz4DHZU",
        "outputId": "a89ec7a5-e2ef-41a2-c638-4305fc567172"
      },
      "source": [
        "# Finding the data type of columns which has null values\n",
        "null_col = terrorist_data.columns[terrorist_data.isnull().sum()>0]\n",
        "\n",
        "for col in null_col:\n",
        "  print(f'{col} -->is of type: {terrorist_data[col].dtype}')"
      ],
      "execution_count": null,
      "outputs": [
        {
          "output_type": "stream",
          "text": [
            "State -->is of type: object\n",
            "City -->is of type: object\n",
            "Latitude -->is of type: float64\n",
            "Longitude -->is of type: float64\n",
            "Specificity -->is of type: float64\n",
            "Targetsubtype -->is of type: object\n",
            "Kills -->is of type: float64\n",
            "Wounded -->is of type: float64\n"
          ],
          "name": "stdout"
        }
      ]
    },
    {
      "cell_type": "code",
      "metadata": {
        "colab": {
          "base_uri": "https://localhost:8080/"
        },
        "id": "abTO3TQCC3sL",
        "outputId": "a56bfe13-0e79-4fab-f693-ce4381b42cc9"
      },
      "source": [
        "terrorist_data.info()"
      ],
      "execution_count": null,
      "outputs": [
        {
          "output_type": "stream",
          "text": [
            "<class 'pandas.core.frame.DataFrame'>\n",
            "RangeIndex: 181691 entries, 0 to 181690\n",
            "Data columns (total 18 columns):\n",
            " #   Column         Non-Null Count   Dtype  \n",
            "---  ------         --------------   -----  \n",
            " 0   ID             181691 non-null  int64  \n",
            " 1   Year           181691 non-null  int64  \n",
            " 2   Country        181691 non-null  object \n",
            " 3   Region         181691 non-null  object \n",
            " 4   State          181270 non-null  object \n",
            " 5   City           181257 non-null  object \n",
            " 6   Latitude       177135 non-null  float64\n",
            " 7   Longitude      177134 non-null  float64\n",
            " 8   Specificity    181685 non-null  float64\n",
            " 9   Is_Success     181691 non-null  int64  \n",
            " 10  Suicide        181691 non-null  int64  \n",
            " 11  Attacktype     181691 non-null  object \n",
            " 12  Targettype     181691 non-null  object \n",
            " 13  Targetsubtype  171318 non-null  object \n",
            " 14  Terror_Group   181691 non-null  object \n",
            " 15  Weapontype     181691 non-null  object \n",
            " 16  Kills          171378 non-null  float64\n",
            " 17  Wounded        165380 non-null  float64\n",
            "dtypes: float64(5), int64(4), object(9)\n",
            "memory usage: 25.0+ MB\n"
          ],
          "name": "stdout"
        }
      ]
    },
    {
      "cell_type": "code",
      "metadata": {
        "colab": {
          "base_uri": "https://localhost:8080/",
          "height": 297
        },
        "id": "R7TQUa5UC473",
        "outputId": "b2672dd3-5800-4a25-8003-fba50c45e100"
      },
      "source": [
        "terrorist_data.describe()"
      ],
      "execution_count": null,
      "outputs": [
        {
          "output_type": "execute_result",
          "data": {
            "text/html": [
              "<div>\n",
              "<style scoped>\n",
              "    .dataframe tbody tr th:only-of-type {\n",
              "        vertical-align: middle;\n",
              "    }\n",
              "\n",
              "    .dataframe tbody tr th {\n",
              "        vertical-align: top;\n",
              "    }\n",
              "\n",
              "    .dataframe thead th {\n",
              "        text-align: right;\n",
              "    }\n",
              "</style>\n",
              "<table border=\"1\" class=\"dataframe\">\n",
              "  <thead>\n",
              "    <tr style=\"text-align: right;\">\n",
              "      <th></th>\n",
              "      <th>ID</th>\n",
              "      <th>Year</th>\n",
              "      <th>Latitude</th>\n",
              "      <th>Longitude</th>\n",
              "      <th>Specificity</th>\n",
              "      <th>Is_Success</th>\n",
              "      <th>Suicide</th>\n",
              "      <th>Kills</th>\n",
              "      <th>Wounded</th>\n",
              "    </tr>\n",
              "  </thead>\n",
              "  <tbody>\n",
              "    <tr>\n",
              "      <th>count</th>\n",
              "      <td>1.816910e+05</td>\n",
              "      <td>181691.000000</td>\n",
              "      <td>177135.000000</td>\n",
              "      <td>1.771340e+05</td>\n",
              "      <td>181685.000000</td>\n",
              "      <td>181691.000000</td>\n",
              "      <td>181691.000000</td>\n",
              "      <td>171378.000000</td>\n",
              "      <td>165380.000000</td>\n",
              "    </tr>\n",
              "    <tr>\n",
              "      <th>mean</th>\n",
              "      <td>2.002705e+11</td>\n",
              "      <td>2002.638997</td>\n",
              "      <td>23.498343</td>\n",
              "      <td>-4.586957e+02</td>\n",
              "      <td>1.451452</td>\n",
              "      <td>0.889598</td>\n",
              "      <td>0.036507</td>\n",
              "      <td>2.403272</td>\n",
              "      <td>3.167668</td>\n",
              "    </tr>\n",
              "    <tr>\n",
              "      <th>std</th>\n",
              "      <td>1.325957e+09</td>\n",
              "      <td>13.259430</td>\n",
              "      <td>18.569242</td>\n",
              "      <td>2.047790e+05</td>\n",
              "      <td>0.995430</td>\n",
              "      <td>0.313391</td>\n",
              "      <td>0.187549</td>\n",
              "      <td>11.545741</td>\n",
              "      <td>35.949392</td>\n",
              "    </tr>\n",
              "    <tr>\n",
              "      <th>min</th>\n",
              "      <td>1.970000e+11</td>\n",
              "      <td>1970.000000</td>\n",
              "      <td>-53.154613</td>\n",
              "      <td>-8.618590e+07</td>\n",
              "      <td>1.000000</td>\n",
              "      <td>0.000000</td>\n",
              "      <td>0.000000</td>\n",
              "      <td>0.000000</td>\n",
              "      <td>0.000000</td>\n",
              "    </tr>\n",
              "    <tr>\n",
              "      <th>25%</th>\n",
              "      <td>1.991021e+11</td>\n",
              "      <td>1991.000000</td>\n",
              "      <td>11.510046</td>\n",
              "      <td>4.545640e+00</td>\n",
              "      <td>1.000000</td>\n",
              "      <td>1.000000</td>\n",
              "      <td>0.000000</td>\n",
              "      <td>0.000000</td>\n",
              "      <td>0.000000</td>\n",
              "    </tr>\n",
              "    <tr>\n",
              "      <th>50%</th>\n",
              "      <td>2.009022e+11</td>\n",
              "      <td>2009.000000</td>\n",
              "      <td>31.467463</td>\n",
              "      <td>4.324651e+01</td>\n",
              "      <td>1.000000</td>\n",
              "      <td>1.000000</td>\n",
              "      <td>0.000000</td>\n",
              "      <td>0.000000</td>\n",
              "      <td>0.000000</td>\n",
              "    </tr>\n",
              "    <tr>\n",
              "      <th>75%</th>\n",
              "      <td>2.014081e+11</td>\n",
              "      <td>2014.000000</td>\n",
              "      <td>34.685087</td>\n",
              "      <td>6.871033e+01</td>\n",
              "      <td>1.000000</td>\n",
              "      <td>1.000000</td>\n",
              "      <td>0.000000</td>\n",
              "      <td>2.000000</td>\n",
              "      <td>2.000000</td>\n",
              "    </tr>\n",
              "    <tr>\n",
              "      <th>max</th>\n",
              "      <td>2.017123e+11</td>\n",
              "      <td>2017.000000</td>\n",
              "      <td>74.633553</td>\n",
              "      <td>1.793667e+02</td>\n",
              "      <td>5.000000</td>\n",
              "      <td>1.000000</td>\n",
              "      <td>1.000000</td>\n",
              "      <td>1570.000000</td>\n",
              "      <td>8191.000000</td>\n",
              "    </tr>\n",
              "  </tbody>\n",
              "</table>\n",
              "</div>"
            ],
            "text/plain": [
              "                 ID           Year  ...          Kills        Wounded\n",
              "count  1.816910e+05  181691.000000  ...  171378.000000  165380.000000\n",
              "mean   2.002705e+11    2002.638997  ...       2.403272       3.167668\n",
              "std    1.325957e+09      13.259430  ...      11.545741      35.949392\n",
              "min    1.970000e+11    1970.000000  ...       0.000000       0.000000\n",
              "25%    1.991021e+11    1991.000000  ...       0.000000       0.000000\n",
              "50%    2.009022e+11    2009.000000  ...       0.000000       0.000000\n",
              "75%    2.014081e+11    2014.000000  ...       2.000000       2.000000\n",
              "max    2.017123e+11    2017.000000  ...    1570.000000    8191.000000\n",
              "\n",
              "[8 rows x 9 columns]"
            ]
          },
          "metadata": {
            "tags": []
          },
          "execution_count": 18
        }
      ]
    },
    {
      "cell_type": "markdown",
      "metadata": {
        "id": "QJX-l_fxCfol"
      },
      "source": [
        "1. The data is from Year 1970 to 2017.\n",
        "2. Is_Success shows that whether the attack was success or not which Indicates 1 For success and 0 for Not Success.\n",
        "3. Latitude and Longitude indicates the location of the attack\n",
        "4. Specificity indicates the scale of the specificity 1 being the least specific and 5 being More specifi of the attack.\n",
        "5. Suicide indicates whether it was Sucide mission or not 1 being Suicide and 0 Non Suicide attack"
      ]
    },
    {
      "cell_type": "code",
      "metadata": {
        "colab": {
          "base_uri": "https://localhost:8080/",
          "height": 142
        },
        "id": "ov2fwz3zDBFg",
        "outputId": "260d8678-1560-428d-8a55-213fe45932c7"
      },
      "source": [
        "str_df = terrorist_data.select_dtypes(exclude=[float, int])\n",
        "str_cols = list(set(str_df.columns.tolist()))\n",
        "str_df = str_df[str_cols]\n",
        "str_desc_df = str_df.describe().iloc[1:3,:]\n",
        "nans = np.round(str_df[str_df == 'Unknown'].count()/len(str_df)*100, decimals=2).astype(str)+'%'\n",
        "nans.name = 'nans'\n",
        "str_desc_df.append(nans)"
      ],
      "execution_count": null,
      "outputs": [
        {
          "output_type": "execute_result",
          "data": {
            "text/html": [
              "<div>\n",
              "<style scoped>\n",
              "    .dataframe tbody tr th:only-of-type {\n",
              "        vertical-align: middle;\n",
              "    }\n",
              "\n",
              "    .dataframe tbody tr th {\n",
              "        vertical-align: top;\n",
              "    }\n",
              "\n",
              "    .dataframe thead th {\n",
              "        text-align: right;\n",
              "    }\n",
              "</style>\n",
              "<table border=\"1\" class=\"dataframe\">\n",
              "  <thead>\n",
              "    <tr style=\"text-align: right;\">\n",
              "      <th></th>\n",
              "      <th>Weapontype</th>\n",
              "      <th>Targettype</th>\n",
              "      <th>City</th>\n",
              "      <th>Terror_Group</th>\n",
              "      <th>Country</th>\n",
              "      <th>Targetsubtype</th>\n",
              "      <th>Attacktype</th>\n",
              "      <th>Region</th>\n",
              "      <th>State</th>\n",
              "    </tr>\n",
              "  </thead>\n",
              "  <tbody>\n",
              "    <tr>\n",
              "      <th>unique</th>\n",
              "      <td>12</td>\n",
              "      <td>22</td>\n",
              "      <td>36674</td>\n",
              "      <td>3537</td>\n",
              "      <td>205</td>\n",
              "      <td>112</td>\n",
              "      <td>9</td>\n",
              "      <td>12</td>\n",
              "      <td>2855</td>\n",
              "    </tr>\n",
              "    <tr>\n",
              "      <th>top</th>\n",
              "      <td>Explosives</td>\n",
              "      <td>Private Citizens &amp; Property</td>\n",
              "      <td>Unknown</td>\n",
              "      <td>Unknown</td>\n",
              "      <td>Iraq</td>\n",
              "      <td>Unnamed Civilian/Unspecified</td>\n",
              "      <td>Bombing/Explosion</td>\n",
              "      <td>Middle East &amp; North Africa</td>\n",
              "      <td>Baghdad</td>\n",
              "    </tr>\n",
              "    <tr>\n",
              "      <th>nans</th>\n",
              "      <td>8.34%</td>\n",
              "      <td>3.25%</td>\n",
              "      <td>5.38%</td>\n",
              "      <td>45.56%</td>\n",
              "      <td>0.0%</td>\n",
              "      <td>0.0%</td>\n",
              "      <td>4.0%</td>\n",
              "      <td>0.0%</td>\n",
              "      <td>2.36%</td>\n",
              "    </tr>\n",
              "  </tbody>\n",
              "</table>\n",
              "</div>"
            ],
            "text/plain": [
              "        Weapontype  ...    State\n",
              "unique          12  ...     2855\n",
              "top     Explosives  ...  Baghdad\n",
              "nans         8.34%  ...    2.36%\n",
              "\n",
              "[3 rows x 9 columns]"
            ]
          },
          "metadata": {
            "tags": []
          },
          "execution_count": 19
        }
      ]
    },
    {
      "cell_type": "code",
      "metadata": {
        "colab": {
          "base_uri": "https://localhost:8080/",
          "height": 505
        },
        "id": "MEClaWPNSiyP",
        "outputId": "b888c163-9694-4305-a851-92d6d9ae743d"
      },
      "source": [
        "plt.figure(figsize=(12,8))\n",
        "sns.heatmap(terrorist_data.corr().abs(),annot=True,)"
      ],
      "execution_count": null,
      "outputs": [
        {
          "output_type": "execute_result",
          "data": {
            "text/plain": [
              "<matplotlib.axes._subplots.AxesSubplot at 0x7facdd1a3910>"
            ]
          },
          "metadata": {
            "tags": []
          },
          "execution_count": 20
        },
        {
          "output_type": "display_data",
          "data": {
            "image/png": "[encoded data removed]",
            "text/plain": [
              "<Figure size 864x576 with 2 Axes>"
            ]
          },
          "metadata": {
            "tags": [],
            "needs_background": "light"
          }
        }
      ]
    },
    {
      "cell_type": "markdown",
      "metadata": {
        "id": "OOXMyeWfaZSz"
      },
      "source": [
        "Here we can see that Wounded and Kills are closely related features"
      ]
    },
    {
      "cell_type": "code",
      "metadata": {
        "colab": {
          "base_uri": "https://localhost:8080/",
          "height": 531
        },
        "id": "9Hbs-xaUapi_",
        "outputId": "f168257d-d1d3-4e6b-a2eb-1510a13690c7"
      },
      "source": [
        "plt.figure(figsize=(20,7))\n",
        "plt.xticks(rotation=60)\n",
        "sns.countplot(terrorist_data['Year'])"
      ],
      "execution_count": null,
      "outputs": [
        {
          "output_type": "stream",
          "text": [
            "/usr/local/lib/python3.7/dist-packages/seaborn/_decorators.py:43: FutureWarning: Pass the following variable as a keyword arg: x. From version 0.12, the only valid positional argument will be `data`, and passing other arguments without an explicit keyword will result in an error or misinterpretation.\n",
            "  FutureWarning\n"
          ],
          "name": "stderr"
        },
        {
          "output_type": "execute_result",
          "data": {
            "text/plain": [
              "<matplotlib.axes._subplots.AxesSubplot at 0x7facca175ed0>"
            ]
          },
          "metadata": {
            "tags": []
          },
          "execution_count": 21
        },
        {
          "output_type": "display_data",
          "data": {
            "image/png": "[encoded data removed]",
            "text/plain": [
              "<Figure size 1440x504 with 1 Axes>"
            ]
          },
          "metadata": {
            "tags": [],
            "needs_background": "light"
          }
        }
      ]
    },
    {
      "cell_type": "markdown",
      "metadata": {
        "id": "XdJjan38bBWJ"
      },
      "source": [
        "Here we can see that the data is left skewed and also by this graph we can get into conclusion that the terrorist activity was most reported after the year 2000. There is a drastic increase in terrorist activity after 2004"
      ]
    },
    {
      "cell_type": "code",
      "metadata": {
        "colab": {
          "base_uri": "https://localhost:8080/",
          "height": 530
        },
        "id": "ZPeixqGQa5CM",
        "outputId": "3a890099-209c-429e-bd38-7b9b0ec9b9d1"
      },
      "source": [
        "plt.figure(figsize=(20,7))\n",
        "plt.xticks(rotation=60)\n",
        "sns.distplot(terrorist_data['Year'])"
      ],
      "execution_count": null,
      "outputs": [
        {
          "output_type": "stream",
          "text": [
            "/usr/local/lib/python3.7/dist-packages/seaborn/distributions.py:2557: FutureWarning: `distplot` is a deprecated function and will be removed in a future version. Please adapt your code to use either `displot` (a figure-level function with similar flexibility) or `histplot` (an axes-level function for histograms).\n",
            "  warnings.warn(msg, FutureWarning)\n"
          ],
          "name": "stderr"
        },
        {
          "output_type": "execute_result",
          "data": {
            "text/plain": [
              "<matplotlib.axes._subplots.AxesSubplot at 0x7facca013090>"
            ]
          },
          "metadata": {
            "tags": []
          },
          "execution_count": 22
        },
        {
          "output_type": "display_data",
          "data": {
            "image/png": "[encoded data removed]",
            "text/plain": [
              "<Figure size 1440x504 with 1 Axes>"
            ]
          },
          "metadata": {
            "tags": [],
            "needs_background": "light"
          }
        }
      ]
    },
    {
      "cell_type": "markdown",
      "metadata": {
        "id": "MDesRU07j_RV"
      },
      "source": [
        "## Terrorist activity count based on the region Type"
      ]
    },
    {
      "cell_type": "code",
      "metadata": {
        "colab": {
          "base_uri": "https://localhost:8080/",
          "height": 404
        },
        "id": "MUrNkHZ4uEij",
        "outputId": "9dc72627-7126-4a45-c52a-460b5af98550"
      },
      "source": [
        "plt.figure(figsize=(12,6))\n",
        "plt.title('Terrorist activity count based on the region Type')\n",
        "plt.ylabel('Region', fontsize=12)\n",
        "year_count = sns.countplot(y='Region',data=terrorist_data,order=terrorist_data['Region'].value_counts().index)"
      ],
      "execution_count": null,
      "outputs": [
        {
          "output_type": "display_data",
          "data": {
            "image/png": "[encoded data removed]",
            "text/plain": [
              "<Figure size 864x432 with 1 Axes>"
            ]
          },
          "metadata": {
            "tags": [],
            "needs_background": "light"
          }
        }
      ]
    },
    {
      "cell_type": "markdown",
      "metadata": {
        "id": "KoPudK8-ika5"
      },
      "source": [
        "By The graph above we can see that Middle East And North Africa,South Asia have Terrorist incidents which has more than 40000 cases."
      ]
    },
    {
      "cell_type": "markdown",
      "metadata": {
        "id": "0N6info5kQzo"
      },
      "source": [
        "##Visualization to check the weapon type"
      ]
    },
    {
      "cell_type": "code",
      "metadata": {
        "colab": {
          "base_uri": "https://localhost:8080/"
        },
        "id": "Scv3VWRtm3la",
        "outputId": "cc698603-31db-4cdd-bdc6-4014803d1144"
      },
      "source": [
        "terrorist_data['Weapontype'].unique()"
      ],
      "execution_count": null,
      "outputs": [
        {
          "output_type": "execute_result",
          "data": {
            "text/plain": [
              "array(['Unknown', 'Explosives', 'Incendiary', 'Firearms', 'Chemical',\n",
              "       'Melee', 'Sabotage Equipment',\n",
              "       'Vehicle (not to include vehicle-borne explosives, i.e., car or truck bombs)',\n",
              "       'Fake Weapons', 'Radiological', 'Other', 'Biological'],\n",
              "      dtype=object)"
            ]
          },
          "metadata": {
            "tags": []
          },
          "execution_count": 24
        }
      ]
    },
    {
      "cell_type": "code",
      "metadata": {
        "colab": {
          "base_uri": "https://localhost:8080/"
        },
        "id": "jTMCAkDLm1bz",
        "outputId": "ca12eaa1-3c57-4ce1-8dca-bd8c5666c189"
      },
      "source": [
        "terrorist_data['Weapontype'].replace({'Vehicle (not to include vehicle-borne explosives, i.e., car or truck bombs)':'Vehicle'},inplace=True)"
      ],
      "execution_count": null,
      "outputs": [
        {
          "output_type": "stream",
          "text": [
            "/usr/local/lib/python3.7/dist-packages/pandas/core/series.py:4582: SettingWithCopyWarning: \n",
            "A value is trying to be set on a copy of a slice from a DataFrame\n",
            "\n",
            "See the caveats in the documentation: https://pandas.pydata.org/pandas-docs/stable/user_guide/indexing.html#returning-a-view-versus-a-copy\n",
            "  method=method,\n"
          ],
          "name": "stderr"
        }
      ]
    },
    {
      "cell_type": "code",
      "metadata": {
        "colab": {
          "base_uri": "https://localhost:8080/",
          "height": 404
        },
        "id": "ClQRkYWIbjai",
        "outputId": "896a55cc-9c57-44ac-9541-5dbb0c4618cc"
      },
      "source": [
        "plt.figure(figsize=(12,6))\n",
        "plt.title('Terrorist activity count based on the Weapon Type used')\n",
        "plt.ylabel('Wepon_Type', fontsize=12)\n",
        "year_count = sns.countplot(y='Weapontype',data=terrorist_data,order=terrorist_data['Weapontype'].value_counts().index)"
      ],
      "execution_count": null,
      "outputs": [
        {
          "output_type": "display_data",
          "data": {
            "image/png": "[encoded data removed]",
            "text/plain": [
              "<Figure size 864x432 with 1 Axes>"
            ]
          },
          "metadata": {
            "tags": [],
            "needs_background": "light"
          }
        }
      ]
    },
    {
      "cell_type": "markdown",
      "metadata": {
        "id": "p5T4xUBtrfiq"
      },
      "source": [
        "They type of Weapon Type used in in the attack is mostly Exploives and Firearms "
      ]
    },
    {
      "cell_type": "markdown",
      "metadata": {
        "id": "UYRu9M5fr0OM"
      },
      "source": [
        "#Attack Type"
      ]
    },
    {
      "cell_type": "code",
      "metadata": {
        "colab": {
          "base_uri": "https://localhost:8080/",
          "height": 404
        },
        "id": "12-ZEW79mXiO",
        "outputId": "95090627-e562-48b4-ef6f-c04f289c9b80"
      },
      "source": [
        "plt.figure(figsize=(12,6))\n",
        "plt.title('Terrorist activity count based on the Attack Type')\n",
        "plt.ylabel('Attacktype', fontsize=12)\n",
        "year_count = sns.countplot(y='Attacktype',data=terrorist_data,order=terrorist_data['Attacktype'].value_counts().index)"
      ],
      "execution_count": null,
      "outputs": [
        {
          "output_type": "display_data",
          "data": {
            "image/png": "[encoded data removed]",
            "text/plain": [
              "<Figure size 864x432 with 1 Axes>"
            ]
          },
          "metadata": {
            "tags": [],
            "needs_background": "light"
          }
        }
      ]
    },
    {
      "cell_type": "code",
      "metadata": {
        "colab": {
          "base_uri": "https://localhost:8080/",
          "height": 513
        },
        "id": "cLxaifYXdYmu",
        "outputId": "5d445c96-1bff-466d-e0f0-ea47e480bab0"
      },
      "source": [
        "plt.figure(figsize=(12,8))\n",
        "plt.title('Terrorist activity count based on the Targettype')\n",
        "plt.ylabel('Targettype', fontsize=12)\n",
        "year_count = sns.countplot(y='Targettype',data=terrorist_data,order=terrorist_data['Targettype'].value_counts().index)"
      ],
      "execution_count": null,
      "outputs": [
        {
          "output_type": "display_data",
          "data": {
            "image/png": "[encoded data removed]",
            "text/plain": [
              "<Figure size 864x576 with 1 Axes>"
            ]
          },
          "metadata": {
            "tags": [],
            "needs_background": "light"
          }
        }
      ]
    },
    {
      "cell_type": "markdown",
      "metadata": {
        "id": "SXg6TXrVNMEp"
      },
      "source": [
        "## Attackes based on Country"
      ]
    },
    {
      "cell_type": "code",
      "metadata": {
        "colab": {
          "base_uri": "https://localhost:8080/",
          "height": 570
        },
        "id": "RoMQaZb-thrV",
        "outputId": "8d3bbded-f696-48a8-d830-208860be623b"
      },
      "source": [
        "plt.figure(figsize=(15,8))\n",
        "plt.xticks(rotation=45)\n",
        "plt.title('Top 15 Countries with the highest Most Attacks')\n",
        "sns.barplot(x=terrorist_data['Country'].value_counts()[:15].index,y = terrorist_data['Country'].value_counts()[:15])"
      ],
      "execution_count": null,
      "outputs": [
        {
          "output_type": "execute_result",
          "data": {
            "text/plain": [
              "<matplotlib.axes._subplots.AxesSubplot at 0x7facc2ddd650>"
            ]
          },
          "metadata": {
            "tags": []
          },
          "execution_count": 33
        },
        {
          "output_type": "display_data",
          "data": {
            "image/png": "[encoded data removed]",
            "text/plain": [
              "<Figure size 1080x576 with 1 Axes>"
            ]
          },
          "metadata": {
            "tags": [],
            "needs_background": "light"
          }
        }
      ]
    },
    {
      "cell_type": "code",
      "metadata": {
        "colab": {
          "base_uri": "https://localhost:8080/",
          "height": 134
        },
        "id": "Eis8sJbvdWkv",
        "outputId": "0d88827d-5a53-466b-82db-1c350804df11"
      },
      "source": [
        "terrorist_data.sample()"
      ],
      "execution_count": null,
      "outputs": [
        {
          "output_type": "execute_result",
          "data": {
            "text/html": [
              "<div>\n",
              "<style scoped>\n",
              "    .dataframe tbody tr th:only-of-type {\n",
              "        vertical-align: middle;\n",
              "    }\n",
              "\n",
              "    .dataframe tbody tr th {\n",
              "        vertical-align: top;\n",
              "    }\n",
              "\n",
              "    .dataframe thead th {\n",
              "        text-align: right;\n",
              "    }\n",
              "</style>\n",
              "<table border=\"1\" class=\"dataframe\">\n",
              "  <thead>\n",
              "    <tr style=\"text-align: right;\">\n",
              "      <th></th>\n",
              "      <th>ID</th>\n",
              "      <th>Year</th>\n",
              "      <th>Country</th>\n",
              "      <th>Region</th>\n",
              "      <th>State</th>\n",
              "      <th>City</th>\n",
              "      <th>Latitude</th>\n",
              "      <th>Longitude</th>\n",
              "      <th>Specificity</th>\n",
              "      <th>Is_Success</th>\n",
              "      <th>Suicide</th>\n",
              "      <th>Attacktype</th>\n",
              "      <th>Targettype</th>\n",
              "      <th>Targetsubtype</th>\n",
              "      <th>Terror_Group</th>\n",
              "      <th>Weapontype</th>\n",
              "      <th>Kills</th>\n",
              "      <th>Wounded</th>\n",
              "    </tr>\n",
              "  </thead>\n",
              "  <tbody>\n",
              "    <tr>\n",
              "      <th>9628</th>\n",
              "      <td>197911090002</td>\n",
              "      <td>1979</td>\n",
              "      <td>United States</td>\n",
              "      <td>North America</td>\n",
              "      <td>Wisconsin</td>\n",
              "      <td>Milwaukee</td>\n",
              "      <td>43.064388</td>\n",
              "      <td>-87.966202</td>\n",
              "      <td>1.0</td>\n",
              "      <td>0</td>\n",
              "      <td>0</td>\n",
              "      <td>Bombing/Explosion</td>\n",
              "      <td>Educational Institution</td>\n",
              "      <td>School/University/Educational Building</td>\n",
              "      <td>East Side Action Committee</td>\n",
              "      <td>Explosives</td>\n",
              "      <td>0.0</td>\n",
              "      <td>0.0</td>\n",
              "    </tr>\n",
              "  </tbody>\n",
              "</table>\n",
              "</div>"
            ],
            "text/plain": [
              "                ID  Year        Country  ...  Weapontype Kills Wounded\n",
              "9628  197911090002  1979  United States  ...  Explosives   0.0     0.0\n",
              "\n",
              "[1 rows x 18 columns]"
            ]
          },
          "metadata": {
            "tags": []
          },
          "execution_count": 34
        }
      ]
    },
    {
      "cell_type": "markdown",
      "metadata": {
        "id": "WcSErtFGPHMF"
      },
      "source": [
        "##Check for Specificity"
      ]
    },
    {
      "cell_type": "code",
      "metadata": {
        "colab": {
          "base_uri": "https://localhost:8080/",
          "height": 312
        },
        "id": "buDdF1vCiVy-",
        "outputId": "9cad1857-c165-41b5-f9a4-ad490440e47f"
      },
      "source": [
        "plt.figure(figsize=(12,4))\n",
        "plt.title('Specificity')\n",
        "sns.countplot(x='Specificity',data=terrorist_data)"
      ],
      "execution_count": null,
      "outputs": [
        {
          "output_type": "execute_result",
          "data": {
            "text/plain": [
              "<matplotlib.axes._subplots.AxesSubplot at 0x7facc2dcd350>"
            ]
          },
          "metadata": {
            "tags": []
          },
          "execution_count": 38
        },
        {
          "output_type": "display_data",
          "data": {
            "image/png": "[encoded data removed]",
            "text/plain": [
              "<Figure size 864x288 with 1 Axes>"
            ]
          },
          "metadata": {
            "tags": [],
            "needs_background": "light"
          }
        }
      ]
    },
    {
      "cell_type": "markdown",
      "metadata": {
        "id": "rAsLNJ_0RLz8"
      },
      "source": [
        "# Check for Failure and Success "
      ]
    },
    {
      "cell_type": "code",
      "metadata": {
        "colab": {
          "base_uri": "https://localhost:8080/",
          "height": 437
        },
        "id": "RKttTupAqMRP",
        "outputId": "ac3d8b4a-f2bf-4386-cab0-6a2cf27c0894"
      },
      "source": [
        "success = sum(terrorist_data['Is_Success']==1) / len(terrorist_data) *100\n",
        "failure = sum(terrorist_data['Is_Success']==0) / len(terrorist_data) *100 \n",
        "plt.figure(figsize=(10,6))\n",
        "plt.title(f'The Terrorist attack Success Percentage is {round(success,2)} \\n and the Failure Percentage is {round(failure,2)}',fontsize=12)\n",
        "sns.countplot(x=terrorist_data['Is_Success'])"
      ],
      "execution_count": null,
      "outputs": [
        {
          "output_type": "execute_result",
          "data": {
            "text/plain": [
              "<matplotlib.axes._subplots.AxesSubplot at 0x7facc25f8ed0>"
            ]
          },
          "metadata": {
            "tags": []
          },
          "execution_count": 53
        },
        {
          "output_type": "display_data",
          "data": {
            "image/png": "[encoded data removed]",
            "text/plain": [
              "<Figure size 720x432 with 1 Axes>"
            ]
          },
          "metadata": {
            "tags": [],
            "needs_background": "light"
          }
        }
      ]
    },
    {
      "cell_type": "markdown",
      "metadata": {
        "id": "BDncyCcnV10X"
      },
      "source": [
        "###Attacks Reported Based on the Year in the Region"
      ]
    },
    {
      "cell_type": "code",
      "metadata": {
        "colab": {
          "base_uri": "https://localhost:8080/",
          "height": 252
        },
        "id": "KIKGSxX8lAUS",
        "outputId": "b110e4fc-28ef-4a17-e137-d2c37702eee7"
      },
      "source": [
        "attacks_year = pd.crosstab(terrorist_data['Year'],terrorist_data['Region'])\n",
        "attacks_year.head(5)"
      ],
      "execution_count": null,
      "outputs": [
        {
          "output_type": "execute_result",
          "data": {
            "text/html": [
              "<div>\n",
              "<style scoped>\n",
              "    .dataframe tbody tr th:only-of-type {\n",
              "        vertical-align: middle;\n",
              "    }\n",
              "\n",
              "    .dataframe tbody tr th {\n",
              "        vertical-align: top;\n",
              "    }\n",
              "\n",
              "    .dataframe thead th {\n",
              "        text-align: right;\n",
              "    }\n",
              "</style>\n",
              "<table border=\"1\" class=\"dataframe\">\n",
              "  <thead>\n",
              "    <tr style=\"text-align: right;\">\n",
              "      <th>Region</th>\n",
              "      <th>Australasia &amp; Oceania</th>\n",
              "      <th>Central America &amp; Caribbean</th>\n",
              "      <th>Central Asia</th>\n",
              "      <th>East Asia</th>\n",
              "      <th>Eastern Europe</th>\n",
              "      <th>Middle East &amp; North Africa</th>\n",
              "      <th>North America</th>\n",
              "      <th>South America</th>\n",
              "      <th>South Asia</th>\n",
              "      <th>Southeast Asia</th>\n",
              "      <th>Sub-Saharan Africa</th>\n",
              "      <th>Western Europe</th>\n",
              "    </tr>\n",
              "    <tr>\n",
              "      <th>Year</th>\n",
              "      <th></th>\n",
              "      <th></th>\n",
              "      <th></th>\n",
              "      <th></th>\n",
              "      <th></th>\n",
              "      <th></th>\n",
              "      <th></th>\n",
              "      <th></th>\n",
              "      <th></th>\n",
              "      <th></th>\n",
              "      <th></th>\n",
              "      <th></th>\n",
              "    </tr>\n",
              "  </thead>\n",
              "  <tbody>\n",
              "    <tr>\n",
              "      <th>1970</th>\n",
              "      <td>1</td>\n",
              "      <td>7</td>\n",
              "      <td>0</td>\n",
              "      <td>2</td>\n",
              "      <td>12</td>\n",
              "      <td>28</td>\n",
              "      <td>472</td>\n",
              "      <td>65</td>\n",
              "      <td>1</td>\n",
              "      <td>10</td>\n",
              "      <td>3</td>\n",
              "      <td>50</td>\n",
              "    </tr>\n",
              "    <tr>\n",
              "      <th>1971</th>\n",
              "      <td>1</td>\n",
              "      <td>5</td>\n",
              "      <td>0</td>\n",
              "      <td>1</td>\n",
              "      <td>5</td>\n",
              "      <td>55</td>\n",
              "      <td>247</td>\n",
              "      <td>24</td>\n",
              "      <td>0</td>\n",
              "      <td>6</td>\n",
              "      <td>2</td>\n",
              "      <td>125</td>\n",
              "    </tr>\n",
              "    <tr>\n",
              "      <th>1972</th>\n",
              "      <td>8</td>\n",
              "      <td>3</td>\n",
              "      <td>0</td>\n",
              "      <td>0</td>\n",
              "      <td>1</td>\n",
              "      <td>53</td>\n",
              "      <td>73</td>\n",
              "      <td>33</td>\n",
              "      <td>1</td>\n",
              "      <td>16</td>\n",
              "      <td>4</td>\n",
              "      <td>376</td>\n",
              "    </tr>\n",
              "    <tr>\n",
              "      <th>1973</th>\n",
              "      <td>1</td>\n",
              "      <td>6</td>\n",
              "      <td>0</td>\n",
              "      <td>2</td>\n",
              "      <td>1</td>\n",
              "      <td>19</td>\n",
              "      <td>64</td>\n",
              "      <td>83</td>\n",
              "      <td>1</td>\n",
              "      <td>2</td>\n",
              "      <td>4</td>\n",
              "      <td>290</td>\n",
              "    </tr>\n",
              "    <tr>\n",
              "      <th>1974</th>\n",
              "      <td>1</td>\n",
              "      <td>11</td>\n",
              "      <td>0</td>\n",
              "      <td>4</td>\n",
              "      <td>2</td>\n",
              "      <td>42</td>\n",
              "      <td>111</td>\n",
              "      <td>81</td>\n",
              "      <td>2</td>\n",
              "      <td>3</td>\n",
              "      <td>7</td>\n",
              "      <td>317</td>\n",
              "    </tr>\n",
              "  </tbody>\n",
              "</table>\n",
              "</div>"
            ],
            "text/plain": [
              "Region  Australasia & Oceania  ...  Western Europe\n",
              "Year                           ...                \n",
              "1970                        1  ...              50\n",
              "1971                        1  ...             125\n",
              "1972                        8  ...             376\n",
              "1973                        1  ...             290\n",
              "1974                        1  ...             317\n",
              "\n",
              "[5 rows x 12 columns]"
            ]
          },
          "metadata": {
            "tags": []
          },
          "execution_count": 55
        }
      ]
    },
    {
      "cell_type": "code",
      "metadata": {
        "id": "SA9YqkxaaYSu",
        "colab": {
          "base_uri": "https://localhost:8080/",
          "height": 477
        },
        "outputId": "daefcb2d-ecf9-4cfd-9e03-e3bcca056988"
      },
      "source": [
        "plt.figure(figsize=(20,7))\n",
        "plt.title('Terrorist Attack in The Different Regions',fontsize=15)\n",
        "sns.lineplot(data=attacks_year,markers=True,dashes=False)\n",
        "plt.legend(fontsize=12)"
      ],
      "execution_count": null,
      "outputs": [
        {
          "output_type": "execute_result",
          "data": {
            "text/plain": [
              "<matplotlib.legend.Legend at 0x7facc00d7d50>"
            ]
          },
          "metadata": {
            "tags": []
          },
          "execution_count": 65
        },
        {
          "output_type": "display_data",
          "data": {
            "image/png": "[encoded data removed]",
            "text/plain": [
              "<Figure size 1440x504 with 1 Axes>"
            ]
          },
          "metadata": {
            "tags": [],
            "needs_background": "light"
          }
        }
      ]
    },
    {
      "cell_type": "code",
      "metadata": {
        "colab": {
          "base_uri": "https://localhost:8080/",
          "height": 529
        },
        "id": "ElNOmltnM_I5",
        "outputId": "8dfe3a49-556a-496f-c09f-2f55bb54a06a"
      },
      "source": [
        "plt.figure(figsize=(15,8))\n",
        "plt.xticks(rotation=45)\n",
        "plt.title('Count of Deaths')\n",
        "sns.barplot(x=terrorist_data['Kills'].value_counts()[1:16].index,y = terrorist_data['Kills'].value_counts()[1:16])"
      ],
      "execution_count": null,
      "outputs": [
        {
          "output_type": "execute_result",
          "data": {
            "text/plain": [
              "<matplotlib.axes._subplots.AxesSubplot at 0x7facbd118f50>"
            ]
          },
          "metadata": {
            "tags": []
          },
          "execution_count": 128
        },
        {
          "output_type": "display_data",
          "data": {
            "image/png": "[encoded data removed]",
            "text/plain": [
              "<Figure size 1080x576 with 1 Axes>"
            ]
          },
          "metadata": {
            "tags": [],
            "needs_background": "light"
          }
        }
      ]
    },
    {
      "cell_type": "code",
      "metadata": {
        "colab": {
          "base_uri": "https://localhost:8080/"
        },
        "id": "7ZO3p0vtOu2K",
        "outputId": "ccd7bd96-ecef-4e62-8ca1-ada4550717c0"
      },
      "source": [
        "# Highest number of kills by terrorist group\n",
        "terrorist_data['Kills'].max()"
      ],
      "execution_count": null,
      "outputs": [
        {
          "output_type": "execute_result",
          "data": {
            "text/plain": [
              "1570.0"
            ]
          },
          "metadata": {
            "tags": []
          },
          "execution_count": 124
        }
      ]
    },
    {
      "cell_type": "code",
      "metadata": {
        "colab": {
          "base_uri": "https://localhost:8080/",
          "height": 297
        },
        "id": "GmhJxHjOM_FG",
        "outputId": "9f3522ba-6c5d-4e60-80bf-416abcab852b"
      },
      "source": [
        "sns.barplot(y=terrorist_data['Kills'],x=terrorist_data['Is_Success'])"
      ],
      "execution_count": null,
      "outputs": [
        {
          "output_type": "execute_result",
          "data": {
            "text/plain": [
              "<matplotlib.axes._subplots.AxesSubplot at 0x7faca8c1bb50>"
            ]
          },
          "metadata": {
            "tags": []
          },
          "execution_count": 146
        },
        {
          "output_type": "display_data",
          "data": {
            "image/png": "[encoded data removed]",
            "text/plain": [
              "<Figure size 432x288 with 1 Axes>"
            ]
          },
          "metadata": {
            "tags": [],
            "needs_background": "light"
          }
        }
      ]
    },
    {
      "cell_type": "code",
      "metadata": {
        "id": "uXocgB02M-_P"
      },
      "source": [
        ""
      ],
      "execution_count": null,
      "outputs": []
    },
    {
      "cell_type": "code",
      "metadata": {
        "id": "bFB5jMgzM-8X"
      },
      "source": [
        ""
      ],
      "execution_count": null,
      "outputs": []
    },
    {
      "cell_type": "code",
      "metadata": {
        "id": "1pjcKmneM-5j"
      },
      "source": [
        ""
      ],
      "execution_count": null,
      "outputs": []
    },
    {
      "cell_type": "code",
      "metadata": {
        "id": "ccLyCbzcM-2l"
      },
      "source": [
        ""
      ],
      "execution_count": null,
      "outputs": []
    },
    {
      "cell_type": "code",
      "metadata": {
        "id": "57iRHDVfM-wg"
      },
      "source": [
        ""
      ],
      "execution_count": null,
      "outputs": []
    },
    {
      "cell_type": "code",
      "metadata": {
        "id": "h9KZNHqZM-s2"
      },
      "source": [
        ""
      ],
      "execution_count": null,
      "outputs": []
    },
    {
      "cell_type": "markdown",
      "metadata": {
        "id": "0TTmNiVQ3lQO"
      },
      "source": [
        "## Using Groupby To group by Region"
      ]
    },
    {
      "cell_type": "code",
      "metadata": {
        "id": "EFzIsUk7yMD5"
      },
      "source": [
        "groupby_region = terrorist_data.groupby(by='Region')"
      ],
      "execution_count": null,
      "outputs": []
    },
    {
      "cell_type": "code",
      "metadata": {
        "id": "GDyCRchkPEBv",
        "colab": {
          "base_uri": "https://localhost:8080/"
        },
        "outputId": "0d7321bb-af70-430a-8fd7-f7e53226dd51"
      },
      "source": [
        "terrorist_data['Region'].unique()"
      ],
      "execution_count": null,
      "outputs": [
        {
          "output_type": "execute_result",
          "data": {
            "text/plain": [
              "array(['Central America & Caribbean', 'North America', 'Southeast Asia',\n",
              "       'Western Europe', 'East Asia', 'South America', 'Eastern Europe',\n",
              "       'Sub-Saharan Africa', 'Middle East & North Africa',\n",
              "       'Australasia & Oceania', 'South Asia', 'Central Asia'],\n",
              "      dtype=object)"
            ]
          },
          "metadata": {
            "tags": []
          },
          "execution_count": 67
        }
      ]
    },
    {
      "cell_type": "markdown",
      "metadata": {
        "id": "rIEhdoqn4m-9"
      },
      "source": [
        "###checking based on region data"
      ]
    },
    {
      "cell_type": "code",
      "metadata": {
        "colab": {
          "base_uri": "https://localhost:8080/",
          "height": 360
        },
        "id": "JbdzQgjR2kT-",
        "outputId": "48d32fa8-9915-4cf2-e40b-7982fb8f9be7"
      },
      "source": [
        "groupby_region_south_asia = groupby_region.get_group('South Asia')\n",
        "groupby_region_south_asia.head()"
      ],
      "execution_count": null,
      "outputs": [
        {
          "output_type": "execute_result",
          "data": {
            "text/html": [
              "<div>\n",
              "<style scoped>\n",
              "    .dataframe tbody tr th:only-of-type {\n",
              "        vertical-align: middle;\n",
              "    }\n",
              "\n",
              "    .dataframe tbody tr th {\n",
              "        vertical-align: top;\n",
              "    }\n",
              "\n",
              "    .dataframe thead th {\n",
              "        text-align: right;\n",
              "    }\n",
              "</style>\n",
              "<table border=\"1\" class=\"dataframe\">\n",
              "  <thead>\n",
              "    <tr style=\"text-align: right;\">\n",
              "      <th></th>\n",
              "      <th>ID</th>\n",
              "      <th>Year</th>\n",
              "      <th>Country</th>\n",
              "      <th>Region</th>\n",
              "      <th>State</th>\n",
              "      <th>City</th>\n",
              "      <th>Latitude</th>\n",
              "      <th>Longitude</th>\n",
              "      <th>Specificity</th>\n",
              "      <th>Is_Success</th>\n",
              "      <th>Suicide</th>\n",
              "      <th>Attacktype</th>\n",
              "      <th>Targettype</th>\n",
              "      <th>Targetsubtype</th>\n",
              "      <th>Terror_Group</th>\n",
              "      <th>Weapontype</th>\n",
              "      <th>Kills</th>\n",
              "      <th>Wounded</th>\n",
              "    </tr>\n",
              "  </thead>\n",
              "  <tbody>\n",
              "    <tr>\n",
              "      <th>585</th>\n",
              "      <td>197011010001</td>\n",
              "      <td>1970</td>\n",
              "      <td>Pakistan</td>\n",
              "      <td>South Asia</td>\n",
              "      <td>Sindh</td>\n",
              "      <td>Karachi</td>\n",
              "      <td>24.891115</td>\n",
              "      <td>67.143311</td>\n",
              "      <td>1.0</td>\n",
              "      <td>1</td>\n",
              "      <td>0</td>\n",
              "      <td>Assassination</td>\n",
              "      <td>Government (Diplomatic)</td>\n",
              "      <td>Diplomatic Personnel (outside of embassy, cons...</td>\n",
              "      <td>Unknown</td>\n",
              "      <td>Vehicle</td>\n",
              "      <td>4.0</td>\n",
              "      <td>20.0</td>\n",
              "    </tr>\n",
              "    <tr>\n",
              "      <th>1186</th>\n",
              "      <td>197202220004</td>\n",
              "      <td>1972</td>\n",
              "      <td>India</td>\n",
              "      <td>South Asia</td>\n",
              "      <td>Delhi</td>\n",
              "      <td>New Delhi</td>\n",
              "      <td>28.585836</td>\n",
              "      <td>77.153336</td>\n",
              "      <td>1.0</td>\n",
              "      <td>1</td>\n",
              "      <td>0</td>\n",
              "      <td>Hijacking</td>\n",
              "      <td>Airports &amp; Aircraft</td>\n",
              "      <td>Aircraft (not at an airport)</td>\n",
              "      <td>Palestinians</td>\n",
              "      <td>Explosives</td>\n",
              "      <td>0.0</td>\n",
              "      <td>0.0</td>\n",
              "    </tr>\n",
              "    <tr>\n",
              "      <th>1863</th>\n",
              "      <td>197305010002</td>\n",
              "      <td>1973</td>\n",
              "      <td>Afghanistan</td>\n",
              "      <td>South Asia</td>\n",
              "      <td>Kabul</td>\n",
              "      <td>Kabul</td>\n",
              "      <td>34.516895</td>\n",
              "      <td>69.147011</td>\n",
              "      <td>1.0</td>\n",
              "      <td>0</td>\n",
              "      <td>0</td>\n",
              "      <td>Unknown</td>\n",
              "      <td>Airports &amp; Aircraft</td>\n",
              "      <td>Airline Officer/Personnel</td>\n",
              "      <td>Black December</td>\n",
              "      <td>Unknown</td>\n",
              "      <td>0.0</td>\n",
              "      <td>1.0</td>\n",
              "    </tr>\n",
              "    <tr>\n",
              "      <th>2217</th>\n",
              "      <td>197402020001</td>\n",
              "      <td>1974</td>\n",
              "      <td>Pakistan</td>\n",
              "      <td>South Asia</td>\n",
              "      <td>Sindh</td>\n",
              "      <td>Karachi</td>\n",
              "      <td>24.891115</td>\n",
              "      <td>67.143311</td>\n",
              "      <td>1.0</td>\n",
              "      <td>1</td>\n",
              "      <td>0</td>\n",
              "      <td>Bombing/Explosion</td>\n",
              "      <td>Maritime</td>\n",
              "      <td>Commercial Maritime</td>\n",
              "      <td>Muslim Guerrillas</td>\n",
              "      <td>Firearms</td>\n",
              "      <td>0.0</td>\n",
              "      <td>0.0</td>\n",
              "    </tr>\n",
              "    <tr>\n",
              "      <th>2705</th>\n",
              "      <td>197412090001</td>\n",
              "      <td>1974</td>\n",
              "      <td>Pakistan</td>\n",
              "      <td>South Asia</td>\n",
              "      <td>North-West Frontier Province</td>\n",
              "      <td>Peshawar</td>\n",
              "      <td>34.006004</td>\n",
              "      <td>71.537430</td>\n",
              "      <td>1.0</td>\n",
              "      <td>1</td>\n",
              "      <td>0</td>\n",
              "      <td>Bombing/Explosion</td>\n",
              "      <td>Government (Diplomatic)</td>\n",
              "      <td>Embassy/Consulate</td>\n",
              "      <td>Unknown</td>\n",
              "      <td>Explosives</td>\n",
              "      <td>0.0</td>\n",
              "      <td>2.0</td>\n",
              "    </tr>\n",
              "  </tbody>\n",
              "</table>\n",
              "</div>"
            ],
            "text/plain": [
              "                ID  Year      Country  ...  Weapontype Kills Wounded\n",
              "585   197011010001  1970     Pakistan  ...     Vehicle   4.0    20.0\n",
              "1186  197202220004  1972        India  ...  Explosives   0.0     0.0\n",
              "1863  197305010002  1973  Afghanistan  ...     Unknown   0.0     1.0\n",
              "2217  197402020001  1974     Pakistan  ...    Firearms   0.0     0.0\n",
              "2705  197412090001  1974     Pakistan  ...  Explosives   0.0     2.0\n",
              "\n",
              "[5 rows x 18 columns]"
            ]
          },
          "metadata": {
            "tags": []
          },
          "execution_count": 69
        }
      ]
    },
    {
      "cell_type": "code",
      "metadata": {
        "colab": {
          "base_uri": "https://localhost:8080/"
        },
        "id": "eh0eOJaO2kOw",
        "outputId": "44a4b40b-9d34-434e-f4ed-1cb04cfbc917"
      },
      "source": [
        "groupby_region_south_asia['Country'].value_counts()"
      ],
      "execution_count": null,
      "outputs": [
        {
          "output_type": "execute_result",
          "data": {
            "text/plain": [
              "Pakistan       14368\n",
              "Afghanistan    12731\n",
              "India          11960\n",
              "Sri Lanka       3022\n",
              "Bangladesh      1648\n",
              "Nepal           1215\n",
              "Maldives          22\n",
              "Bhutan             6\n",
              "Mauritius          2\n",
              "Name: Country, dtype: int64"
            ]
          },
          "metadata": {
            "tags": []
          },
          "execution_count": 72
        }
      ]
    },
    {
      "cell_type": "code",
      "metadata": {
        "colab": {
          "base_uri": "https://localhost:8080/",
          "height": 530
        },
        "id": "VhFGj8W72kK8",
        "outputId": "44f5f28d-ea31-4278-f775-acda2adc4415"
      },
      "source": [
        "plt.figure(figsize=(12,8))\n",
        "plt.title('Terrorist Activity In South Asia Countries')\n",
        "sns.countplot(x='Country',data=groupby_region_south_asia,order=groupby_region_south_asia['Country'].value_counts().index)"
      ],
      "execution_count": null,
      "outputs": [
        {
          "output_type": "execute_result",
          "data": {
            "text/plain": [
              "<matplotlib.axes._subplots.AxesSubplot at 0x7facbfd8e610>"
            ]
          },
          "metadata": {
            "tags": []
          },
          "execution_count": 76
        },
        {
          "output_type": "display_data",
          "data": {
            "image/png": "[encoded data removed]",
            "text/plain": [
              "<Figure size 864x576 with 1 Axes>"
            ]
          },
          "metadata": {
            "tags": [],
            "needs_background": "light"
          }
        }
      ]
    },
    {
      "cell_type": "code",
      "metadata": {
        "colab": {
          "base_uri": "https://localhost:8080/"
        },
        "id": "xgb4v21y2kC5",
        "outputId": "b4218ae2-63e6-486e-9b1f-e418f1879551"
      },
      "source": [
        "groupby_region_south_asia['Terror_Group'].unique()"
      ],
      "execution_count": null,
      "outputs": [
        {
          "output_type": "execute_result",
          "data": {
            "text/plain": [
              "array(['Unknown', 'Palestinians', 'Black December', 'Muslim Guerrillas',\n",
              "       'Ananda Marga', 'National Awami Party',\n",
              "       'Liberation Tigers of Tamil Eelam (LTTE)',\n",
              "       'Abu Nidal Organization (ANO)', 'Japanese Red Army (JRA)',\n",
              "       'Naga People', 'Shia Muslim extremists', 'Palestinian Students',\n",
              "       'Meitei extremists', 'Mizo National Front', 'Supporter of Bhutto',\n",
              "       'Muslims', 'Naxalites', \"People's Liberation Army (India)\", 'Mob',\n",
              "       'Maoists', 'Kabul Government Agents', 'Anti-Immigrant extremists',\n",
              "       'Al-Zulfikar', 'Insurgents', 'Awami League', 'Extremists',\n",
              "       'Aghwar \"Fire War\" Group', 'Dissident', 'Sikh Extremists',\n",
              "       'Secessionists', 'Tamils', 'Akali Dal Party', 'Iranians',\n",
              "       'Iraqi Mujahideen', 'All India Sikh Students Federation (AISSF)',\n",
              "       \"Fedayeen Khalq (People's Commandos)\", 'New Armenian Resistance',\n",
              "       'Tripura National Volunteers (TNV)',\n",
              "       'Jammu and Kashmir Liberation Front', 'Death Squad', 'Terrorists',\n",
              "       'Tripura Nationalists', 'Dishmish Regiment', 'Separatists',\n",
              "       'Militants', 'Revolutionary Organization of Socialist Muslims',\n",
              "       'Tamil Eelam Liberation Organization (TELO)',\n",
              "       'National Socialist Council of Nagaland',\n",
              "       'United Liberation Torchbearers Forces', 'Jarnail Khalsa',\n",
              "       'Guerrillas', 'Saffron Tigers', 'Marxists',\n",
              "       'Revolutionary Eelam Organization (EROS)', 'Afghans',\n",
              "       'Kisar Liberation Movement',\n",
              "       \"Eelam People's Revolutionary Liberation Front (EPRLF)\",\n",
              "       'Tribal Separatists', 'Bangladesh Sarbahara Party',\n",
              "       'Shanti Bahini - Peace Force', 'Sinhalese Extremists',\n",
              "       'Karamyit Singh', 'Maoist Communist Center (MCC)',\n",
              "       'Gang separatists terrorists', 'Khalistan Liberation Force',\n",
              "       'Anti-Socials', 'Iranian dissident group', 'Gunmen',\n",
              "       'Khalistan Commando Force', 'Pro-Kabul Provocateurs',\n",
              "       'Scooter Borne terrorists', 'Afghan Mujahideen',\n",
              "       'Gurkha National Liberation Front (GNLF)', 'Freedom Party',\n",
              "       \"People's Liberation Front (JVP)\", 'Muslim extremists',\n",
              "       'Sinhalese Insurgents', 'Organization of Arab Fedayeen Cells',\n",
              "       'Afghan Rebels', 'United Liberation Front of Assam (ULFA)',\n",
              "       \"People's Liberation Organization of Tamil Eelam\", 'Hizb-I-Islami',\n",
              "       'Muslim Militants', 'Babbar Khalsa International (BKI)',\n",
              "       'Bhinderanwale Tiger Force of Khalistan (BTHK)',\n",
              "       'Soldiers of Truth', \"People's War Group (PWG)\", 'Bodo Militants',\n",
              "       'Muslim Separatists', 'Anti-Communist Vigilante Group',\n",
              "       'Vigilante Group', 'Kashmiri extremists',\n",
              "       'Flying Eagles (Vigilante Group)', 'Pro-Pakistani extremists',\n",
              "       'Communist Party of India', 'Citizens Volunteer Force',\n",
              "       \"Allah's Tigers\", 'Hizbul Mujahideen (HM)',\n",
              "       \"Pakistani People's Party (PPP)\", 'Mujahideen Kashmir',\n",
              "       'Muttahida Qami Movement (MQM)', 'Muslim Janbaz Force',\n",
              "       'Pakistani trained terrorists', 'Justice and Liberty Warriors',\n",
              "       'Sinhalese Militants', 'Bangladesh Nationalist Party (BNP)',\n",
              "       'Sipah-e-Sahaba/Pakistan (SSP)', 'Jamaat-E-Islami (Bangladesh)',\n",
              "       'Panthic Committee', 'Dacoits', 'Hindu extremists',\n",
              "       'Al-Umar Mujahideen', 'Achwan-I-Mushbani', 'Ikhwan-ul-Muslimeen',\n",
              "       'Bangladesh Communist Party', 'Nahzat e Eslami',\n",
              "       'Ittehad-i-Islami', 'Muslim Brotherhood',\n",
              "       'Drug-Related Terrorists',\n",
              "       'All Nepal Free Nationalist Students Union', 'Afghan Guerrillas',\n",
              "       'All India Anna Dravida Munetra Kazgan Party',\n",
              "       'Mohajir National Movement', 'Communist Party of India- Marxist',\n",
              "       'Kashmiri Hezbollah', 'Mahaz-e-Milli Islami Afghanistan',\n",
              "       'Pathan Tribal Group', 'Al-Fatah', 'Pirates',\n",
              "       'Lashkari-e-Adam (Army of Adam)', 'Anti-Government Group',\n",
              "       'Opposition Group', 'Students', 'Najib Watan Party Faction',\n",
              "       'Militant Moslem Pilgrims', 'Jamiat-e Islami-yi Afghanistan',\n",
              "       'Laiq Chanio Group of Dacoit Bandits',\n",
              "       'Bangladesh National Socialist Party', 'Political Group',\n",
              "       'Supporters of leftist Gana-Oikya Front',\n",
              "       'Jharkhand Tribal Forces', 'Anti-Monarchists',\n",
              "       'Left-Wing Terrorists', 'Harakat-i-Inqilahi-i-Islami',\n",
              "       'Jamaat-E-Islami (India/Pakistan)', 'Sindhi nationalists',\n",
              "       'Burmese refugees', \"United People's Front\",\n",
              "       'Hill Students Council', 'Smugglers and Elephant Poachers',\n",
              "       'Sunni Muslim extremists', 'Hezb-e Wahdat-e Islami-yi Afghanistan',\n",
              "       'Communist Trade Union Workers',\n",
              "       'Bangladesh Road Transport Workers Federation', 'Tribal Group',\n",
              "       'Committee for the Elimination of Killer Collaborators',\n",
              "       'Servants of Islam Organization',\n",
              "       'Rohingya Solidarity Organization', 'Khasi Students Union',\n",
              "       'All Tripura Tiger Force (ATTF)',\n",
              "       'National Liberation Front of Tripura (NLFT)',\n",
              "       'National Democratic Front of Bodoland (NDFB)',\n",
              "       'Bharatiya Janata Party', 'Ohabi Islamic Sect',\n",
              "       'Muslim Demonstrators', 'Muslim Fundamentalists',\n",
              "       'Khalistan Zindabad (Long Live Khalistan)', 'Minority Unity Forum',\n",
              "       'Naga Students Federation', 'Harkat ul Ansar',\n",
              "       'Sammilito Sangskritik Jote (Alliance of Cultural Forums)',\n",
              "       'Rival Parts', 'Long-time Muslim immigrants from Bangladesh',\n",
              "       'Al-Jehad', 'Maoist Farm Laborers Struggle Committee (MXSS)',\n",
              "       'U/I Snipers', 'United Students Forum', 'Communists',\n",
              "       'Organized Crime', 'Socialist Chhatra League',\n",
              "       'National Democratic Party', 'Islamist extremists',\n",
              "       'Opposition Militants', 'United Action Council', 'Villagers',\n",
              "       'Al-Hadid', 'Kuki Tribal Militants',\n",
              "       'Opposition Jatiya Samajtantrik Del Party', 'Fundamentalists',\n",
              "       'Bandits', 'United National Party', 'Rival Party Members',\n",
              "       'Shangytown residents', 'Congress Party Activists',\n",
              "       \"Bihar People's  Party (Hindu militants)\", \"People's Alliance\",\n",
              "       'Afghan Merceneries', 'Opossition 48 hour general strikers',\n",
              "       'All-Party Students Union', 'Kalpar Tribesmen',\n",
              "       'Local landlord employee', 'Taliban', 'Mazari Tribesmen', 'Youths',\n",
              "       'Kuki tribesmen', 'Rival Bangledesh Chhatra League Faction',\n",
              "       'Al-Faran', 'Purbo Banglar Communist Party', 'Tripura Separatists',\n",
              "       'Tanzeem Ittehad - I - Ulema Qabail (Tiuq)Tribesmen',\n",
              "       'U/I Islamic Separatists', 'Miscreants', 'Pro-Government Students',\n",
              "       'Dukhta-ran-e-Millat', 'Tamil Nadu Liberation Army',\n",
              "       'Rival Activists', 'Strikers', 'Former Student Hostel',\n",
              "       'Strike Enforcers', 'Egyptian Islamic Jihad (Al-Jihad)',\n",
              "       'Jammu and Kashmir Islamic Front', 'Anti - Election Demonstrators',\n",
              "       'U/l men', 'Karnataka State Farmers Association',\n",
              "       'Rival Afghan Group', 'Thavar Caste', 'Political Activists',\n",
              "       'Rival caste', 'Ikhwan Jammu and Kashmir', 'Kaka-Tribesmen',\n",
              "       'Jagrata Towhidi Janata (Rising Faithfuls)', 'Afridi Tribe',\n",
              "       'Ranbir Sena', 'Shinwari Tribe', 'Lashkar-e-Jhangvi',\n",
              "       'Bharat Zinc Workers', 'Sipah-I-Mohammed', 'Jatav Caste',\n",
              "       'All Karanataka Youth Council', 'Ujjan Tribe',\n",
              "       'Bahujan Samaj Party', 'Anti-Bhutto demonstrators',\n",
              "       'Jamiat ul-Mujahedin (JuM)', 'Indian Tigers',\n",
              "       \"National People's Movement Coordination Committee\",\n",
              "       'Lashkar-e-Taiba (LeT)', 'Bodo Liberation Tigers (BLT)',\n",
              "       'Pakistan Muslim League (PML)',\n",
              "       'Communist Party of Nepal- Maoist (CPN-M)', 'Muslim Rebels',\n",
              "       'Tribal guerrillas', 'Tehrik al-Mojahedin',\n",
              "       'Communist Party of Nepal- Unified Marxist-Leninist (CPN-UML)',\n",
              "       'Nepali Congress Party (NC)', 'Tamil Liberation Army',\n",
              "       'Shahid Khalsa Force', 'Brelvi Muslims', 'Party Unity',\n",
              "       'Activists', 'Al-Ummah', 'Vishwa Hindu Parishad (VHP)',\n",
              "       'Mazdoor Kisan Sangram Samiti (MKSS)', 'Harkatul Jihad-e-Islami',\n",
              "       'The Northern Alliance (or United Islamic Front for Salvation of Afghanistan - UIFSA)',\n",
              "       'Dima Halao Daoga (DHD)',\n",
              "       'Communist Party of India- Marxist-Leninist',\n",
              "       'Harakat ul-Mujahidin (HuM)', 'Al-Nawaz',\n",
              "       'Bengali Tiger Force (BTF)', 'Left-wing extremists',\n",
              "       \"National People's Party (Rashtriya Janata Dal - RJD)\",\n",
              "       'Tribesmen', 'Jaish-e-Mohammad (JeM)',\n",
              "       'Karbi National Volunteers (KNV)',\n",
              "       'National Front Against Tigers (NFAT)',\n",
              "       'Kamtapur Liberation Organization (KLO)',\n",
              "       'National Socialist Council of Nagaland-Isak-Muivah (NSCN-IM)',\n",
              "       'Government Supporters', 'Akhilesh Singh Gang',\n",
              "       'United Bengali Liberation Front (UBLF)',\n",
              "       \"United People's Democratic Solidarity (UPDS)\",\n",
              "       'Chakma tribal group', 'Kanglei Yawol Kanna Lup (KYKL)',\n",
              "       'Students Islamic Movement of India (SIMI)', 'Al-Hamas Mujahideen',\n",
              "       'Achik National Volunteer Council (ANVC)', 'Lashkar-e-Omar',\n",
              "       'Al-Qaida', 'United Kuki Liberation Front (UKLF) - India',\n",
              "       'Islamic Front', 'Porattom', 'Taliban (Pakistan)',\n",
              "       'Kuki Revolutionary Army (KRA)', 'Al-Madina',\n",
              "       'Al-Intiqami al-Pakistani', 'Al-Mansoorian',\n",
              "       'All Nepal National Free Student Union-Revolutionary',\n",
              "       'Al-Arifeen', 'Islamic Shashantantra Andolon (ISA)', 'Rebels',\n",
              "       'Al-Badr', 'Harakat ul-Mujahidin Al-Almi', 'Al-Nasirin (India)',\n",
              "       'Save Kashmir Movement', 'Praveen Dalam',\n",
              "       'Rashtriya Swayamsevak Sangh', 'Islamic Fateh',\n",
              "       \"Jama'atul Mujahideen Bangladesh (JMB)\",\n",
              "       'Kuki Liberation Army (KLA)', 'Anti-United States extremists',\n",
              "       'Saif-ul-Muslimeen', 'Muslim United Army (MUA)',\n",
              "       \"People's Revolutionary Party of Kangleipak (PREPAK)\",\n",
              "       'Al-Shuda Brigade', 'Fedayeen Imam Mahdi', 'Kashmir Freedom Force',\n",
              "       'United National Liberation Front (UNLF)',\n",
              "       'Kuki National Front (KNF)', 'Anti-Government Guerrillas',\n",
              "       'Islambouli Brigades of al-Qaida',\n",
              "       'Jaish al-Muslimin (Army of the Muslims)',\n",
              "       'Balochistan National Army', 'Christian extremists',\n",
              "       'Baloch Liberation Army (BLA)', 'Mahsud Tribe',\n",
              "       'Baloch Nationalists', 'Colonel Karuna Faction',\n",
              "       'Al-Nasireen Group',\n",
              "       'Communist Party of India - Maoist (CPI-Maoist)', 'Tela Mohammed',\n",
              "       'United Jihad Council', 'Tamil Makkal Viduthalai Pulikal (TMVP)',\n",
              "       'Karbi Tribe', 'Mahaz-e-Inquilab', 'Mutahida Majlis-e-Amal',\n",
              "       'Al-Qaida Network for Southwestern Khulna Division',\n",
              "       'Kangleipak Communist Party (KCP)', 'Anti-Government extremists',\n",
              "       'Karbi Longri North Cachar Liberation Front (KLNLF)',\n",
              "       'Janatantrik Terai Mukti Morcha (JTMM)', 'Haqqani Network',\n",
              "       'Janatantrik Terai Mukti Morcha- Goit (JTMM-G)',\n",
              "       \"People's Tamil Organization\",\n",
              "       'Janatantrik Terai Mukti Morcha- Jwala Singh (JTMM-J)',\n",
              "       'Jadid Al-Qaida Bangladesh (JAQB)',\n",
              "       'Karbi Longri National Liberation Front (KLNLF)',\n",
              "       'Adivasi National Liberation Army (ANLA)',\n",
              "       'Kuki National Army (KNA)', 'Young Communist League',\n",
              "       \"Madhesi People's Rights Forum (MPRF)\",\n",
              "       'Janatantrik Terai Mukti Morcha- Bisphot Singh (JTMM-B)',\n",
              "       'Amr Bil Maroof Wa Nahi Anil Munkir', 'Terai Army',\n",
              "       'Tehrik-i-Taliban Pakistan (TTP)',\n",
              "       'United Janatantrik Terai Mukti Morcha (U-JTMM)',\n",
              "       'Baloch Republican Army (BRA)',\n",
              "       'Bhumi Uchched Pratirodh Committee (BUPC)', 'Union Parishad',\n",
              "       'Tehrik-e-Nafaz-e-Shariat-e-Mohammadi (TNSM)', 'Al-Fajr',\n",
              "       'Black Widows',\n",
              "       'Janatantrik Terai Mukti Morcha- Prithvi Singh (JTMM-P)',\n",
              "       'United Democratic Terai Liberation Front (UDTLF)',\n",
              "       'Nepal Defense Army', 'The United Revolutionary Front of Bhutan',\n",
              "       'Samyukta Janatantrik Terai Mukti Morcha (SJTMM)',\n",
              "       'National Socialist Council of Nagaland-Khaplang (NSCN-K)',\n",
              "       'Terai Cobra', 'Jharkhand Liberation Tigers (JLT)',\n",
              "       \"Hmar People's Convention-Democracy (HPC-D)\",\n",
              "       'Madhesi Mukti Tigers (MMT)',\n",
              "       'Janatantrik Terai Mukti Morcha- Rajan Mukti (JTMM-R)',\n",
              "       \"People's United Liberation Front (PULF)\",\n",
              "       \"Naga People's Council (NPC)\", 'Akhil Terai Mukti Morcha (ATMM)',\n",
              "       'Kirat Janabadi Workers Party',\n",
              "       'Hynniewtrep National Liberation Council (HNLC)',\n",
              "       'Madhesi Virus Killers', \"People's Liberation Front of India\",\n",
              "       'All Kamatapur Liberation Force', 'Indian Mujahideen',\n",
              "       'Janatantrik Terai Mukti Morcha- Ranbir Singh (JTMM-RS)',\n",
              "       'National Liberation Army (Nepal)', 'Jundallah (Pakistan)',\n",
              "       'Mahaz Fedai Tahrik Islami Afghanistan', 'Deccan Mujahideen',\n",
              "       'Rastriya Janashakti Party (RJP)', 'Ansar Wa Mohajir (Pakistan)',\n",
              "       'Madhesh Rastra Janatantrik Revolutionary (RJR) - Nepal',\n",
              "       'Baloch Liberation Front (BLF)',\n",
              "       'Mahan Madhesh Janakantri Party (MMJP)- Nepal',\n",
              "       \"New People's Army (NPA)\", 'Mongolian Mukti Morcha',\n",
              "       'Bhisan Himali Bag', 'Himali Tigers',\n",
              "       'Tritiya Prastuti Committee (TPC)',\n",
              "       'Tharuhat Joint Struggle Committee (TJSC)',\n",
              "       \"Citizen's Rights Protection Volunteers\",\n",
              "       'Terai Rastriya Mukti Sena (TRMS)', 'Tehrik-e-Galba Islam',\n",
              "       'Balochistan Liberation United Front (BLUF)',\n",
              "       \"United People's Democratic Front (UPDF) - Bangladesh\",\n",
              "       \"Bodo People's Front (BPF)\",\n",
              "       \"People's Committee against Police Atrocities (PCPA)\",\n",
              "       'Gono Bahini (GB)', 'Lashkar-e-Islam (Pakistan)',\n",
              "       'Lashkar-e-Balochistan',\n",
              "       'Parbatya Chattagram Jana Sanghati Samity (PCJSS) - Bangladesh',\n",
              "       'Gholam Yahya Akbar', 'Terai Janatantrik Party',\n",
              "       'United Liberation Front of Barak Valley (ULFBV) - India',\n",
              "       'Ansarul Islam (Pakistan)', 'Terai Janatantrik Madhes Party',\n",
              "       'Janatantrik Terai Madhesh Mukti Morcha (JTMMM)',\n",
              "       'Samyukta Jatiya Mukti Morcha (SJMM)', 'Dynamic Youth Forum',\n",
              "       'Baloch Militant Defense Army', 'Swatantra Nepal Dal',\n",
              "       'Popular Front of India', 'Tehrik-e-Tuhafaz (Pakistan)',\n",
              "       'United Democratic Liberation Army (UDLA)',\n",
              "       'Terai Madheshi Mukti Morcha (TMMM)',\n",
              "       'Volunteers of Innocent People of Nagas (VIPN)',\n",
              "       'Garo National Liberation Army',\n",
              "       'Sindhu Desh Liberation Army (SDLA)',\n",
              "       \"Karbi People's Liberation Tigers (KPLT)\",\n",
              "       'Baloch Mussalah Diffah Tanzim (BMDT)',\n",
              "       'Madhesh Mukti Sangram (MMS)', 'Khumbuwan Mukti Morcha',\n",
              "       'Sanghiya Limbuwan Committee (SLC)', 'Naga National Council (NNC)',\n",
              "       \"Adivasi People's Army (APA)\", 'Khorasan jihadi group',\n",
              "       'Baloch Liberation Tigers (BLT)',\n",
              "       'Kuki National Liberation Front (KNLF)',\n",
              "       'Yimchunger Liberation Front (YLF)',\n",
              "       'Muslim United Liberation Tigers of Assam (MULTA)',\n",
              "       'Zeliangrong United Front', 'Hill Tiger Force (HTF)',\n",
              "       'United Baloch Army (UBA)', 'Islamic Movement of Kashmir',\n",
              "       'Abdullah Azzam Brigades',\n",
              "       'Adivasi Cobra Militants of Assam (ACMA)',\n",
              "       'Islamic Movement of Uzbekistan (IMU)',\n",
              "       'Janatantrik Terai Madhes Mukti Party- Bhagat Singh (JTMMP)',\n",
              "       'Qari Kamran Group', 'Samyukta Terai Madhes Mukti Party',\n",
              "       'Tehrik-e-Taliban Islami (TTI)', 'Coordination Committee (CORCOM)',\n",
              "       'Bhittani tribe', 'Jharkhand Janmukti Parishad (JJP)',\n",
              "       'Sindhudesh Revolutionary Army (SRA)',\n",
              "       \"People's Revolutionary Party of Kangleipak-Progressive (PREPAK-P)\",\n",
              "       \"Communist Party of Nepal (People's War Group)\",\n",
              "       'Pro Hartal Activists', 'Shiv Sena', 'Telangana Separatists',\n",
              "       'Islami Jamiat-e-Talaba (IJT)', 'Mullah Dadullah Front',\n",
              "       'Nepalbad Party', \"People's Amn Committee\",\n",
              "       'Sindh Liberation Front', 'Jaish-e-Islam', 'Jaish Usama',\n",
              "       'Zomi Revolutionary Army (ZRA)', 'Bengali Sangram Mukti Bahini',\n",
              "       'Sudurpaschim Janata Dal', 'Tawheedul Islam', 'Punjabi Taliban',\n",
              "       'Biswabhumi Sena Bishal Nepal', 'Mujahideen Ansar',\n",
              "       'Ansarullah Bangla Team',\n",
              "       'Communist Party of Nepal-Maoist (Baidya)', 'Buddhist Monks',\n",
              "       'Terai Communist Party', 'Jamaat Tauhid Wal Jihad (Pakistan)',\n",
              "       'Maoist Communist Party of Manipur', 'Zehri Youth Force (ZYF)',\n",
              "       'Pattali Makkal Katchi (PMK)',\n",
              "       'United Achik Liberation Army (UALA)', 'Pahadi Cheetah',\n",
              "       'National Liberation Force of Bengalis (Bangali Janamukti Bahini)',\n",
              "       'Sanatan Sanstha', 'Bru National Liberation Front (BNLF)',\n",
              "       'Al-Qaida in the Indian Subcontinent',\n",
              "       'Achik National Volunteer Council-B (ANVC-B)',\n",
              "       \"Manipur Naga People's Army (MNPA)\",\n",
              "       'Baloch National Liberation Front',\n",
              "       'Tehrik-e-Nifaz-e-Aman Balochistan-Jhalawan Brigade (TNAB-Jhalawan Brigade)',\n",
              "       'Achik Tiger Force', 'United Revolutionary Front',\n",
              "       'National Liberation Council of Taniland',\n",
              "       'Achik National Liberation Army (ANLA)',\n",
              "       'Baloch Waja Liberation Army (BWLA)', 'Tehrik-e-Khilafat',\n",
              "       'Jaish as-Saiyouf (Army of Swords)',\n",
              "       'United Tribal Liberation Army (UTLA)',\n",
              "       \"Achik Songna An'pachakgipa Kotok (ASAK)\",\n",
              "       'National Santhali Liberation Army (NSLA)',\n",
              "       'Orakzai Freedom Movement', 'Tanzeem al-Islami al-Furqan',\n",
              "       'Baloch Republican Guards (BRG)', 'Jharkhand Bachao Aandolan',\n",
              "       'United Karbi Liberation Army (UKLA)', 'Bodu Bala Sena',\n",
              "       'Dima Hasao National Army', 'Bangalee Somo Odhikar Andolon',\n",
              "       'National Socialist Council of Nagaland-Khole-Kitovi (NSCN-KK)',\n",
              "       'Achik National Cooperative Army (ANCA)',\n",
              "       'Rabha National Security Force', 'Jaish-e-Khorasan (JeK)',\n",
              "       'Unified Communist Party of Nepal (Maoist)', 'Halqa-e-Mehsud',\n",
              "       'Jamaat-ul-Ahrar', 'Al-Jihad (Pakistan)',\n",
              "       'Jharkhand Prastuti Committee (JPC)',\n",
              "       'Manipur Nationalist Revolutionary Party (MNRP)',\n",
              "       'Hafiz Gul Bahadur Group', 'Free Balochistan Army (FBA)',\n",
              "       'Khorasan Chapter of the Islamic State',\n",
              "       'Barak Valley Tiger Force (BVTF)',\n",
              "       'Bru Democratic Front of Mizoram (BDFM)',\n",
              "       'Ahle Sunnat Wal Jamaat (ASWJ-Pakistan)',\n",
              "       \"A'chik Matgrik Elite Force (AMEF)\", 'Hindu Illaignar Sena',\n",
              "       'Jharkhand Sangharsh Jan Mukti Morcha',\n",
              "       'Dravidar Viduthalai Kazhagam (DVK)',\n",
              "       'Communist Party of Nepal - Maoist (CPN-Maoist-Chand)',\n",
              "       'United National Liberation Front of WESEA (UNLFW)',\n",
              "       'Lashkar-e-Islam (India)', 'Lama Group', 'Puratchi Puligal',\n",
              "       'Arakan Army (AA)', 'Baloch Young Tigers (BYT)',\n",
              "       'Hindu Morcha Nepal', 'Bangladesh Tiger Force',\n",
              "       'Islamic State in Bangladesh', 'United Garo Security Force (UGSF)',\n",
              "       'Arakan Liberation Party (ALP)', 'Jai Shri Ram Hindu Bhai Group',\n",
              "       'Right-wing extremists', 'Majlis-e-Askari', 'Baba Ladla Gang',\n",
              "       'United Democratic Madhesi Front (UDMF)',\n",
              "       \"United Gorkha People's Organization (UGPO)\",\n",
              "       'Achik Matgrik Army (AMA)',\n",
              "       'Democratic Youth Federation of India (DYFI)',\n",
              "       'United Reformation Protest of India', 'Moran Tiger Force (MTF)',\n",
              "       'Janatantrik Tiger Janashakti Party',\n",
              "       'Kuki Independent Organization (KIO/KIA)',\n",
              "       'Liberation of Achik Elite Force (LAEF)', 'Base Movement',\n",
              "       'Jaish al-Umar (JaU)', 'Tripura Group',\n",
              "       'Tribal Revolutionary Army (TRA)',\n",
              "       'National Socialist Council of Nagaland-Unification (NSCN-U)',\n",
              "       'Revolutionary Communist Centre (RCC)', 'Rohingya extremists',\n",
              "       'Tiwa Liberation Army', 'Hizb al-Tahrir al-Islami (HT)',\n",
              "       'National Revolutionary Front of Manipur (NRFM)',\n",
              "       'Kuki Unification Frontal Organization (KUFO)',\n",
              "       'Dashmesh Regiment', 'All Assam Revolutionary Army (AARA)',\n",
              "       'Thanthai Periyar Dravidar Kazhagam (TPDK)',\n",
              "       'Tehrik-e-Hurriyat (TeH)',\n",
              "       'Jharkhand Kranti Raksha Dal (Utari Chotanagpur)',\n",
              "       'Sindh Revolutionary Army', 'Haji Fateh',\n",
              "       \"Thadou People's Liberation Army (TPLA)\",\n",
              "       'Quit Kashmir Movement (QKM)',\n",
              "       'United Achik National Front (UANF)',\n",
              "       'Nikhil Bharat Bangali Udbastu Samannay Samiti (NBBUSS)',\n",
              "       'Naga extremists', 'Rajput extremists',\n",
              "       'Good Vision Party (India)', 'Anti-Muslim extremists',\n",
              "       'National Socialist Council of Nagaland-Reformation (NSCN-R)',\n",
              "       'Birsa Commando Force (BCF)', 'Gorkha Janmukti Morcha (GJM)',\n",
              "       'Al-Yakin Mujahidin', 'Ansar al-Sharia (Pakistan)',\n",
              "       'Liberal Democratic Council for Missing Land',\n",
              "       'Pragatishil Tarai Mukti Morcha', 'Gorkha Liberation Army (GLA)',\n",
              "       \"Indigenous People's Front of Tripura (IPFT)\",\n",
              "       'Sinhale Jathika Balamuluwa', 'Hafeez Brohi Group',\n",
              "       'Ansar Ghazwat-ul-Hind', 'Baloch Republican Party'], dtype=object)"
            ]
          },
          "metadata": {
            "tags": []
          },
          "execution_count": 77
        }
      ]
    },
    {
      "cell_type": "markdown",
      "metadata": {
        "id": "ZBHpSrMhDNRA"
      },
      "source": [
        "###Top 20 Terrorist Group in South Asia"
      ]
    },
    {
      "cell_type": "code",
      "metadata": {
        "id": "2vUy-Sqe2j8O"
      },
      "source": [
        ""
      ],
      "execution_count": null,
      "outputs": []
    },
    {
      "cell_type": "code",
      "metadata": {
        "id": "QF7EugkE2j0u"
      },
      "source": [
        ""
      ],
      "execution_count": null,
      "outputs": []
    },
    {
      "cell_type": "code",
      "metadata": {
        "id": "QLQT3C0E2jqw"
      },
      "source": [
        ""
      ],
      "execution_count": null,
      "outputs": []
    },
    {
      "cell_type": "code",
      "metadata": {
        "id": "FU7el9nRasOR"
      },
      "source": [
        ""
      ],
      "execution_count": null,
      "outputs": []
    },
    {
      "cell_type": "code",
      "metadata": {
        "colab": {
          "base_uri": "https://localhost:8080/",
          "height": 297
        },
        "id": "qcTs3BQ-lIp2",
        "outputId": "50eedbae-b7eb-4ae1-c638-b10a0bd79472"
      },
      "source": [
        "sns.countplot(x='country_txt',hue='multiple',data = city_india)"
      ],
      "execution_count": null,
      "outputs": [
        {
          "output_type": "execute_result",
          "data": {
            "text/plain": [
              "<matplotlib.axes._subplots.AxesSubplot at 0x7f6245157950>"
            ]
          },
          "metadata": {
            "tags": []
          },
          "execution_count": 29
        },
        {
          "output_type": "display_data",
          "data": {
            "image/png": "[encoded data removed]",
            "text/plain": [
              "<Figure size 432x288 with 1 Axes>"
            ]
          },
          "metadata": {
            "tags": [],
            "needs_background": "light"
          }
        }
      ]
    },
    {
      "cell_type": "code",
      "metadata": {
        "colab": {
          "base_uri": "https://localhost:8080/",
          "height": 297
        },
        "id": "jFg9ZHwinMgg",
        "outputId": "dac5b2c4-5c51-46f3-d954-f489850d1b2f"
      },
      "source": [
        "sns.countplot(x='country_txt',hue='suicide',data = city_india)"
      ],
      "execution_count": null,
      "outputs": [
        {
          "output_type": "execute_result",
          "data": {
            "text/plain": [
              "<matplotlib.axes._subplots.AxesSubplot at 0x7f625278e850>"
            ]
          },
          "metadata": {
            "tags": []
          },
          "execution_count": 30
        },
        {
          "output_type": "display_data",
          "data": {
            "image/png": "[encoded data removed]",
            "text/plain": [
              "<Figure size 432x288 with 1 Axes>"
            ]
          },
          "metadata": {
            "tags": [],
            "needs_background": "light"
          }
        }
      ]
    },
    {
      "cell_type": "code",
      "metadata": {
        "colab": {
          "base_uri": "https://localhost:8080/",
          "height": 531
        },
        "id": "7Vcpp_-IncAQ",
        "outputId": "41bf2ec5-2e39-4faa-85df-593a5e46e0d8"
      },
      "source": [
        "plt.figure(figsize=(12,8))\n",
        "plt.title('Top 15 Terrorist Group In South Asian Countries')\n",
        "sns.barplot(y=groupby_region_south_asia['Terror_Group'].value_counts()[1:16].index,x=groupby_region_south_asia['Terror_Group'].value_counts()[1:16])"
      ],
      "execution_count": null,
      "outputs": [
        {
          "output_type": "execute_result",
          "data": {
            "text/plain": [
              "<matplotlib.axes._subplots.AxesSubplot at 0x7facbe91f4d0>"
            ]
          },
          "metadata": {
            "tags": []
          },
          "execution_count": 93
        },
        {
          "output_type": "display_data",
          "data": {
            "image/png": "[encoded data removed]",
            "text/plain": [
              "<Figure size 864x576 with 1 Axes>"
            ]
          },
          "metadata": {
            "tags": [],
            "needs_background": "light"
          }
        }
      ]
    },
    {
      "cell_type": "code",
      "metadata": {
        "id": "kB1z6Yv8njfn"
      },
      "source": [
        ""
      ],
      "execution_count": null,
      "outputs": []
    },
    {
      "cell_type": "code",
      "metadata": {
        "id": "SP8rVbIVo6Ic"
      },
      "source": [
        ""
      ],
      "execution_count": null,
      "outputs": []
    },
    {
      "cell_type": "code",
      "metadata": {
        "id": "qJh_Muy4q-_D"
      },
      "source": [
        ""
      ],
      "execution_count": null,
      "outputs": []
    },
    {
      "cell_type": "code",
      "metadata": {
        "id": "oCjakivdx4sB"
      },
      "source": [
        ""
      ],
      "execution_count": null,
      "outputs": []
    },
    {
      "cell_type": "code",
      "metadata": {
        "id": "rgg7gsiMS9ZS"
      },
      "source": [
        ""
      ],
      "execution_count": null,
      "outputs": []
    }
  ]
}